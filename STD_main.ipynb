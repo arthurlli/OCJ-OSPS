{
 "cells": [
  {
   "cell_type": "markdown",
   "metadata": {},
   "source": [
    "# Setup\n",
    "1) need to download modules included below\n",
    "2) install ImagerMagick following the instrution in website of wand.\n",
    "3) install google.cloud.vision -> configurate your credentials and private key for connection"
   ]
  },
  {
   "cell_type": "markdown",
   "metadata": {},
   "source": [
    "# NOTE: similar code as \"Hand-written_OCR\" using Google Vision API"
   ]
  },
  {
   "cell_type": "markdown",
   "metadata": {},
   "source": [
    "API reference: https://cloud.google.com/python/docs/reference/vision/latest"
   ]
  },
  {
   "cell_type": "markdown",
   "metadata": {},
   "source": [
    "Steps:\n",
    "1) convert PDF to JPG\n",
    "2) call GV API to read data\n",
    "3) output data: i) folder same naming as PDF file, ii) pages stored saparately in the folder"
   ]
  },
  {
   "cell_type": "code",
   "execution_count": 1,
   "metadata": {},
   "outputs": [],
   "source": [
    "# for convert PDF to JPG\n",
    "from wand.image import Image as WandImage\n",
    "from PyPDF2 import PdfReader\n",
    "# ML based OCR \n",
    "import pytesseract  \n",
    "from PIL import Image\n",
    "# for progress bar\n",
    "from tqdm import tqdm\n",
    "# other\n",
    "import os"
   ]
  },
  {
   "cell_type": "code",
   "execution_count": 2,
   "metadata": {},
   "outputs": [],
   "source": [
    "# first, output all files under \"./pdf/STD/\" folder\n",
    "def list_files(directory: str):\n",
    "    \"\"\"\n",
    "    List up all files under a directory\n",
    "    \n",
    "    Input:\n",
    "        directory (str): directory that stores all files to be listed up\n",
    "    \"\"\"\n",
    "    file_list = []\n",
    "    # Walk through all directories and subdirectories\n",
    "    for root, dirs, files in os.walk(directory):\n",
    "        # Iterate over each file in the current directory\n",
    "        for file in files:\n",
    "            # Get the file names\n",
    "            #file_path = os.path.join(root, file)  #do not need root path\n",
    "            file_path = file\n",
    "            # Append the file path to the list\n",
    "            file_list.append(file_path)\n",
    "    return file_list"
   ]
  },
  {
   "cell_type": "code",
   "execution_count": 3,
   "metadata": {},
   "outputs": [],
   "source": [
    "# define functions to convert PDF to JPG\n",
    "def pdf_to_images(pdf_path: str, output_folder: str, total_pages: int = None):\n",
    "    \"\"\"\n",
    "    Converting PDF to JPG using WandImage (need to pre-install)\n",
    "    \n",
    "    Input: \n",
    "        pdf_path (str): path that stores all PDF\n",
    "        output_folder (str): folder to store outputs\n",
    "        total_pages (int): number of pages to be proceeded. Default is None, means all page)\n",
    "    \"\"\"\n",
    "    # Create output folder if it doesn't exist\n",
    "    os.makedirs(output_folder, exist_ok=True)\n",
    "\n",
    "    # Open the PDF file\n",
    "    with open(pdf_path, 'rb') as pdf_file:\n",
    "        pdf_reader = PdfReader(pdf_file)\n",
    "\n",
    "        # Change to the total number of pages in your PDF\n",
    "        #total_pages = 3\n",
    "        if total_pages is None:\n",
    "            total_pages = len(pdf_reader.pages)\n",
    "        for page_number in tqdm(range(0, total_pages), desc=\"Processing Pages\"):\n",
    "            # Convert each page to an image\n",
    "            with WandImage(filename=f'{pdf_path}[{page_number}]', resolution=400) as img:\n",
    "                # resize the image to ensure high resolution: also resol=300\n",
    "                img.resize(width=2 * img.width, height=2 * img.height)\n",
    "                # Save the image as JPG in the output folder\n",
    "                img.save(filename=os.path.join(output_folder, f'page_{page_number+1}.jpg'))\n",
    "        print(f\"Total page is {total_pages}, so exit the program.\")\n",
    "    return\n",
    "\n",
    "def OCR_image(image_path: str, config: str = None):\n",
    "    \"\"\"\n",
    "    Using pytesseract to OCR image (testing)\n",
    "    \n",
    "    Input: \n",
    "        image_path (str): path that stores image\n",
    "        config (str): configuration for pytesseract\n",
    "    \"\"\"\n",
    "    # OCR on the image\n",
    "    image = Image.open(image_path)\n",
    "    if config is not None:\n",
    "        text = pytesseract.image_to_string(image, lang='jpn', config=config)\n",
    "    else:\n",
    "        # else default\n",
    "        text = pytesseract.image_to_string(image, lang='jpn')\n",
    "    #print(f\"Text:\\n{text}\\n\")\n",
    "    return text"
   ]
  },
  {
   "cell_type": "markdown",
   "metadata": {},
   "source": [
    "# Functions using Google Vision API"
   ]
  },
  {
   "cell_type": "code",
   "execution_count": 4,
   "metadata": {},
   "outputs": [],
   "source": [
    "# import google libraries\n",
    "from google.cloud import vision\n",
    "import pandas as pd\n",
    "import os\n",
    "from tqdm import tqdm"
   ]
  },
  {
   "cell_type": "code",
   "execution_count": 5,
   "metadata": {},
   "outputs": [],
   "source": [
    "# functions for reading images, returning information in the images \n",
    "def detect_document(path: str, lanHint: str ='ja'):\n",
    "    \"\"\"\n",
    "    Detects document features in an image.\n",
    "    \n",
    "    Input:\n",
    "        path (str): document path\n",
    "    \n",
    "    Output:\n",
    "        image: input image read by vision API\n",
    "        response: Google Vision API response for further processing\n",
    "    \"\"\"\n",
    "    client = vision.ImageAnnotatorClient()\n",
    "    with open(path, \"rb\") as image_file:\n",
    "        content = image_file.read()\n",
    "    image = vision.Image(content=content)\n",
    "    # add crop hint & language hint (ja) -> looks better\n",
    "    crop_hints_params = vision.CropHintsParams(aspect_ratios=[0.8, 1.0, 1.2])\n",
    "    image_context = vision.ImageContext(crop_hints_params=crop_hints_params, language_hints=[lanHint])\n",
    "    #image_context = vision.ImageContext(crop_hints_params=crop_hints_params) \n",
    "    # if not lan hint, results will be strange\n",
    "    # note: language_hints NOT languageHints becoz it is RPC API (https://github.com/googleapis/google-cloud-python/issues/6387)\n",
    "    response = client.document_text_detection(image=image,image_context=image_context)\n",
    "    #response = client.text_detection(image=image,image_context=image_context)  # use text_detection\n",
    "    if response.error.message:\n",
    "        raise Exception(\n",
    "            \"{}\\nFor more info on error messages, check: \"\n",
    "            \"https://cloud.google.com/apis/design/errors\".format(response.error.message)\n",
    "        )\n",
    "    return image,response\n",
    "\n",
    "\n",
    "def print_response(response):\n",
    "    \"\"\"\n",
    "    Print contents in vision API response to check\n",
    "    \n",
    "    Input:\n",
    "        response: vision API response\n",
    "    \"\"\"\n",
    "    for page in response.full_text_annotation.pages:\n",
    "        print(f\"Current page has {len(page.blocks)} blocks\")\n",
    "        nBlock = 1\n",
    "        for block in page.blocks:\n",
    "            block_text = []\n",
    "            print(\"####################################\")\n",
    "            print(f'Current block: {nBlock}')\n",
    "            print(f\"\\nBlock confidence: {block.confidence}\\n\")\n",
    "            for paragraph in block.paragraphs:\n",
    "                paragraph_text = []\n",
    "                print(\"Paragraph confidence: {}\".format(paragraph.confidence))\n",
    "                for word in paragraph.words:\n",
    "                    word_text = \"\".join([symbol.text for symbol in word.symbols])\n",
    "                    paragraph_text.append(word_text)\n",
    "                block_text = ''.join(paragraph_text)\n",
    "                print(block_text)\n",
    "                result_str = ''.join(block_text)\n",
    "                print(result_str)\n",
    "            nBlock += 1\n",
    "    return\n",
    "\n",
    "def print_full_text(response):\n",
    "    \"\"\"\n",
    "    Print full content of the response\n",
    "    \n",
    "    Input:\n",
    "        response: vision API response\n",
    "    \"\"\"\n",
    "    print(f\"Full Text: {response.full_text_annotation.text}\")\n",
    "    return\n",
    "\n",
    "# check encoding of the result -> if not Shift-JIS, return False\n",
    "def is_not_encoding(string: str, check: str = 'cp932'):\n",
    "    \"\"\"\n",
    "    To check if the input string is not Shift_JIS\n",
    "    \n",
    "    Input:\n",
    "        string (str): string to be checked\n",
    "        check (str): encoding code page (cp932 is Japanese)\n",
    "    \n",
    "    Output:\n",
    "        boolean\n",
    "    \"\"\"\n",
    "    try:\n",
    "        # Try to decode the string using 'cp932' encoding\n",
    "        decoded_string = string.encode(check)\n",
    "    except UnicodeEncodeError:\n",
    "        # If encoding raises an error, the string is not 'cp932'\n",
    "        return True\n",
    "    else:\n",
    "        # If encoding is successful, the string is 'cp932'\n",
    "        return False\n",
    "\n",
    "def save_full_text(path: str, fn1: str, fn2: str, response):\n",
    "    \"\"\"\n",
    "    Save block by block in vision API response\n",
    "    \n",
    "    Input:\n",
    "        path (str): path to save file\n",
    "        fn1 (str): filename for storing recognized text\n",
    "        fn2 (str): filename for storing confidence of recognized text\n",
    "    \"\"\"\n",
    "    # Open the file in write mode\n",
    "    with open(path+fn1, \"w\") as file:\n",
    "        # Write each element of the list to a new line in the file\n",
    "        for page in response.full_text_annotation.pages:\n",
    "            for block in page.blocks:\n",
    "                block_text = []\n",
    "                for paragraph in block.paragraphs:\n",
    "                    paragraph_text = []\n",
    "                    for word in paragraph.words:\n",
    "                        word_text = \"\".join([symbol.text for symbol in word.symbols])\n",
    "                        paragraph_text.append(word_text)\n",
    "                    block_text = ''.join(paragraph_text)\n",
    "                    result_str = ''.join(block_text)\n",
    "                    # testing\n",
    "                    #print(result_str)\n",
    "                    if is_not_encoding(string=result_str):\n",
    "                        print(f\"Wrong encoding: {result_str}\")\n",
    "                    else:\n",
    "                        file.write(f\"{result_str}\\n\")\n",
    "                \n",
    "    with open(path+fn2,\"w\") as file:\n",
    "        for page in response.full_text_annotation.pages:\n",
    "            for block in page.blocks:\n",
    "                block_confidence = []\n",
    "                block_confidence.append(block.confidence)\n",
    "                for paragraph in block.paragraphs:\n",
    "                    paragraph_confidence = []\n",
    "                    paragraph_confidence.append(paragraph.confidence)\n",
    "                file.write(f\"{block_confidence}\\n\")\n",
    "    #print(f\"List contents saved to {path+fn1}\")\n",
    "    #print(f\"List confidence saved to {path+fn2}\")\n",
    "    \n",
    "# read all image and save txt (page_x.txt && page_x_confidence.txt) to directory\n",
    "def save_all_full_text(directory_path: str, save_path: str):\n",
    "    \"\"\"\n",
    "    Processing all JPG in directory, call vision API, and then save data.\n",
    "    \n",
    "    Input: \n",
    "        directory_path (str): path that lists all JPGs\n",
    "        save_path (str): path that stores txt\n",
    "    \"\"\"\n",
    "    # Loop over all image files in the directory\n",
    "    for filename in tqdm(os.listdir(directory_path),desc='Processing jpg: '):\n",
    "        if filename.endswith(\".jpg\") or filename.endswith(\".png\"):\n",
    "            # set up image path\n",
    "            image_path = os.path.join(directory_path, filename)\n",
    "            # detect OCR using vision API\n",
    "            try:\n",
    "                image,response = detect_document(image_path)\n",
    "            except:\n",
    "                print(f\"An execution error encountered at {filename}\")\n",
    "            # then save all OCR text to .txt file with confidence -> remove .jpg from filename\n",
    "            savename = filename.replace('.jpg','')\n",
    "            save_full_text(path=save_path,fn1=f'{savename}.txt',fn2=f'{savename}_confidence.txt',response=response)\n",
    "            # testing\n",
    "            #print_response(response=response)\n",
    "    return"
   ]
  },
  {
   "cell_type": "code",
   "execution_count": 6,
   "metadata": {},
   "outputs": [],
   "source": [
    "# once the key is set up and downloaded, config the environmental variables\n",
    "os.environ['GOOGLE_APPLICATION_CREDENTIALS'] = 'C:/service_account_PubKey.json'"
   ]
  },
  {
   "cell_type": "code",
   "execution_count": 7,
   "metadata": {},
   "outputs": [],
   "source": [
    "# config paths\n",
    "input_path = './pdf/STD/'\n",
    "output_path = './jpg/STD/'"
   ]
  },
  {
   "cell_type": "code",
   "execution_count": 8,
   "metadata": {},
   "outputs": [
    {
     "name": "stdout",
     "output_type": "stream",
     "text": [
      "Files of STD: ['H19_1月~3月.pdf', 'H19_4月.pdf', 'H19_5月.pdf', 'H19_6月~7月.pdf', 'H19_8月(2).pdf', 'H_198月.pdf']\n",
      "Length: 6\n"
     ]
    }
   ],
   "source": [
    "# show all STD pdf files\n",
    "STD_files = list_files(directory=input_path)\n",
    "print(f\"Files of STD: {STD_files}\")\n",
    "print(f\"Length: {len(STD_files)}\")"
   ]
  },
  {
   "cell_type": "markdown",
   "metadata": {},
   "source": [
    "# Total of 6 folders to process: 1) to JPG, 2) recognise text"
   ]
  },
  {
   "cell_type": "markdown",
   "metadata": {},
   "source": [
    "Proceessing PDF (1/6) (note: do not use loop for readibility)"
   ]
  },
  {
   "cell_type": "code",
   "execution_count": 9,
   "metadata": {},
   "outputs": [],
   "source": [
    "# set paths: save txt file to same folder as jpg\n",
    "fn_0 = STD_files[0]\n",
    "folder_0 = fn_0.replace(\".pdf\",\"\")\n",
    "pdf_path = f'./pdf/STD/{fn_0}'\n",
    "jpg_path = f'./jpg/STD/{folder_0}/'"
   ]
  },
  {
   "cell_type": "code",
   "execution_count": 10,
   "metadata": {},
   "outputs": [
    {
     "name": "stderr",
     "output_type": "stream",
     "text": [
      "Processing Pages: 100%|████████████████████████████████████████████████████████████████| 78/78 [13:16<00:00, 10.21s/it]"
     ]
    },
    {
     "name": "stdout",
     "output_type": "stream",
     "text": [
      "Total page is 78, so exit the program.\n"
     ]
    },
    {
     "name": "stderr",
     "output_type": "stream",
     "text": [
      "\n"
     ]
    }
   ],
   "source": [
    "# convert PDF to JPG\n",
    "pdf_to_images(pdf_path=pdf_path, output_folder=jpg_path, total_pages=None)"
   ]
  },
  {
   "cell_type": "code",
   "execution_count": 11,
   "metadata": {},
   "outputs": [
    {
     "name": "stderr",
     "output_type": "stream",
     "text": [
      "Processing jpg:   4%|██▊                                                              | 10/235 [00:10<04:13,  1.13s/it]"
     ]
    },
    {
     "name": "stdout",
     "output_type": "stream",
     "text": [
      "Wrong encoding: LỌLỘLỌLOLOLO101010\n"
     ]
    },
    {
     "name": "stderr",
     "output_type": "stream",
     "text": [
      "\r",
      "Processing jpg:   6%|███▌                                                             | 13/235 [00:12<03:47,  1.03s/it]"
     ]
    },
    {
     "name": "stdout",
     "output_type": "stream",
     "text": [
      "Wrong encoding: CÓ0070GIACỦNH\n"
     ]
    },
    {
     "name": "stderr",
     "output_type": "stream",
     "text": [
      "\r",
      "Processing jpg:   7%|████▍                                                            | 16/235 [00:15<03:42,  1.02s/it]"
     ]
    },
    {
     "name": "stdout",
     "output_type": "stream",
     "text": [
      "Wrong encoding: LÒLỒLỘLàLỘLaLỒLỘLỘ\n"
     ]
    },
    {
     "name": "stderr",
     "output_type": "stream",
     "text": [
      "Processing jpg:  18%|███████████▉                                                     | 43/235 [00:38<02:52,  1.11it/s]"
     ]
    },
    {
     "name": "stdout",
     "output_type": "stream",
     "text": [
      "Wrong encoding: CÓCÓ10ĐICANH\n"
     ]
    },
    {
     "name": "stderr",
     "output_type": "stream",
     "text": [
      "Processing jpg:  22%|██████████████▍                                                  | 52/235 [00:45<02:35,  1.18it/s]"
     ]
    },
    {
     "name": "stdout",
     "output_type": "stream",
     "text": [
      "Wrong encoding: LỌLỘLỌLO-345\n"
     ]
    },
    {
     "name": "stderr",
     "output_type": "stream",
     "text": [
      "Processing jpg:  29%|██████████████████▊                                              | 68/235 [00:56<01:47,  1.56it/s]"
     ]
    },
    {
     "name": "stdout",
     "output_type": "stream",
     "text": [
      "An execution error encountered at page_3.jpg\n"
     ]
    },
    {
     "name": "stderr",
     "output_type": "stream",
     "text": [
      "Processing jpg:  43%|███████████████████████████▌                                    | 101/235 [01:25<01:28,  1.51it/s]"
     ]
    },
    {
     "name": "stdout",
     "output_type": "stream",
     "text": [
      "Wrong encoding: LỒLỒLỘLỒLỒLÀLỘLỒLỘ\n"
     ]
    },
    {
     "name": "stderr",
     "output_type": "stream",
     "text": [
      "Processing jpg:  45%|████████████████████████████▊                                   | 106/235 [01:30<01:43,  1.25it/s]"
     ]
    },
    {
     "name": "stdout",
     "output_type": "stream",
     "text": [
      "Wrong encoding: HƯXẺH*I]:2007/02/1311:24:14測定地点:8M\n"
     ]
    },
    {
     "name": "stderr",
     "output_type": "stream",
     "text": [
      "Processing jpg:  50%|████████████████████████████████▏                               | 118/235 [01:39<01:36,  1.21it/s]"
     ]
    },
    {
     "name": "stdout",
     "output_type": "stream",
     "text": [
      "Wrong encoding: •\n"
     ]
    },
    {
     "name": "stderr",
     "output_type": "stream",
     "text": [
      "\r",
      "Processing jpg:  51%|████████████████████████████████▉                               | 121/235 [01:42<01:33,  1.22it/s]"
     ]
    },
    {
     "name": "stdout",
     "output_type": "stream",
     "text": [
      "Wrong encoding: HẠOVLỌCÓECÓ\n"
     ]
    },
    {
     "name": "stderr",
     "output_type": "stream",
     "text": [
      "Processing jpg:  57%|████████████████████████████████████▍                           | 134/235 [01:52<01:19,  1.27it/s]"
     ]
    },
    {
     "name": "stdout",
     "output_type": "stream",
     "text": [
      "Wrong encoding: H]RẺH*I]:2007/03/2810:14:45測定地点:8M\n"
     ]
    },
    {
     "name": "stderr",
     "output_type": "stream",
     "text": [
      "\r",
      "Processing jpg:  58%|█████████████████████████████████████                           | 136/235 [01:55<01:37,  1.01it/s]"
     ]
    },
    {
     "name": "stdout",
     "output_type": "stream",
     "text": [
      "Wrong encoding: LỄ,L,LỘL,L,Là\n"
     ]
    },
    {
     "name": "stderr",
     "output_type": "stream",
     "text": [
      "Processing jpg:  60%|██████████████████████████████████████▋                         | 142/235 [02:00<01:26,  1.07it/s]"
     ]
    },
    {
     "name": "stdout",
     "output_type": "stream",
     "text": [
      "Wrong encoding: LLồLỒLỒLÀL,L,L\n"
     ]
    },
    {
     "name": "stderr",
     "output_type": "stream",
     "text": [
      "Processing jpg:  63%|████████████████████████████████████████▎                       | 148/235 [02:05<01:13,  1.18it/s]"
     ]
    },
    {
     "name": "stdout",
     "output_type": "stream",
     "text": [
      "Wrong encoding: LỘLỘLỘLỘLỘLỘLỘLÀ23456789\n"
     ]
    },
    {
     "name": "stderr",
     "output_type": "stream",
     "text": [
      "Processing jpg:  71%|█████████████████████████████████████████████▍                  | 167/235 [02:21<00:52,  1.30it/s]"
     ]
    },
    {
     "name": "stdout",
     "output_type": "stream",
     "text": [
      "Wrong encoding: LOLOLỌLỘLỌLỘLỌLOLO\n"
     ]
    },
    {
     "name": "stderr",
     "output_type": "stream",
     "text": [
      "Processing jpg:  73%|██████████████████████████████████████████████▊                 | 172/235 [02:25<00:55,  1.13it/s]"
     ]
    },
    {
     "name": "stdout",
     "output_type": "stream",
     "text": [
      "Wrong encoding: 測定時刻:2007/01/2213:34:41NÍÞÁ:9M\n",
      "Wrong encoding: LỘLỘLOLỒLLỒLàLàCO\n"
     ]
    },
    {
     "name": "stderr",
     "output_type": "stream",
     "text": [
      "Processing jpg:  80%|██████████████████████████████████████████████████▉             | 187/235 [02:37<00:39,  1.21it/s]"
     ]
    },
    {
     "name": "stdout",
     "output_type": "stream",
     "text": [
      "Wrong encoding: 6760LÀ\n"
     ]
    },
    {
     "name": "stderr",
     "output_type": "stream",
     "text": [
      "\r",
      "Processing jpg:  81%|███████████████████████████████████████████████████▋            | 190/235 [02:40<00:39,  1.15it/s]"
     ]
    },
    {
     "name": "stdout",
     "output_type": "stream",
     "text": [
      "Wrong encoding: LỒLỘLỘLLỒLÀLỒLỘLỘ\n"
     ]
    },
    {
     "name": "stderr",
     "output_type": "stream",
     "text": [
      "\r",
      "Processing jpg:  82%|████████████████████████████████████████████████████▌           | 193/235 [02:43<00:35,  1.17it/s]"
     ]
    },
    {
     "name": "stdout",
     "output_type": "stream",
     "text": [
      "Wrong encoding: 測定時刻:2007/01/16NËŁA:8M\n"
     ]
    },
    {
     "name": "stderr",
     "output_type": "stream",
     "text": [
      "Processing jpg:  86%|███████████████████████████████████████████████████████         | 202/235 [02:50<00:33,  1.02s/it]"
     ]
    },
    {
     "name": "stdout",
     "output_type": "stream",
     "text": [
      "Wrong encoding: □N3+10201∞@OHNMLOCOMØ\n"
     ]
    },
    {
     "name": "stderr",
     "output_type": "stream",
     "text": [
      "Processing jpg:  92%|███████████████████████████████████████████████████████████     | 217/235 [03:04<00:17,  1.03it/s]"
     ]
    },
    {
     "name": "stdout",
     "output_type": "stream",
     "text": [
      "Wrong encoding: 測定時刻:2007/01/1110:31:14HURẺPHIẢ:8M\n",
      "Wrong encoding: LỌLỘLỌLLỌLOLO\n"
     ]
    },
    {
     "name": "stderr",
     "output_type": "stream",
     "text": [
      "Processing jpg:  95%|████████████████████████████████████████████████████████████▋   | 223/235 [03:08<00:09,  1.25it/s]"
     ]
    },
    {
     "name": "stdout",
     "output_type": "stream",
     "text": [
      "Wrong encoding: HƯRẺU*I]:2007/01/1010:36:14測定地点:8M\n"
     ]
    },
    {
     "name": "stderr",
     "output_type": "stream",
     "text": [
      "Processing jpg: 100%|████████████████████████████████████████████████████████████████| 235/235 [03:13<00:00,  1.21it/s]\n"
     ]
    }
   ],
   "source": [
    "# OCR all images and return txt files: processing all fn_0\n",
    "save_all_full_text(directory_path=jpg_path,save_path=jpg_path)"
   ]
  },
  {
   "cell_type": "markdown",
   "metadata": {},
   "source": [
    "Processing PDF (2/6)"
   ]
  },
  {
   "cell_type": "code",
   "execution_count": 12,
   "metadata": {},
   "outputs": [],
   "source": [
    "# set paths: save txt file to same folder as jpg\n",
    "fn_1 = STD_files[0]\n",
    "folder_1 = fn_1.replace(\".pdf\",\"\")\n",
    "pdf_path = f'./pdf/STD/{fn_1}'\n",
    "jpg_path = f'./jpg/STD/{folder_1}/'"
   ]
  },
  {
   "cell_type": "code",
   "execution_count": 13,
   "metadata": {},
   "outputs": [
    {
     "name": "stderr",
     "output_type": "stream",
     "text": [
      "Processing Pages: 100%|████████████████████████████████████████████████████████████████| 78/78 [12:34<00:00,  9.68s/it]"
     ]
    },
    {
     "name": "stdout",
     "output_type": "stream",
     "text": [
      "Total page is 78, so exit the program.\n"
     ]
    },
    {
     "name": "stderr",
     "output_type": "stream",
     "text": [
      "\n"
     ]
    }
   ],
   "source": [
    "# convert PDF to JPG\n",
    "pdf_to_images(pdf_path=pdf_path, output_folder=jpg_path, total_pages=None)"
   ]
  },
  {
   "cell_type": "code",
   "execution_count": 14,
   "metadata": {},
   "outputs": [
    {
     "name": "stderr",
     "output_type": "stream",
     "text": [
      "Processing jpg:   4%|██▊                                                              | 10/235 [00:09<03:55,  1.05s/it]"
     ]
    },
    {
     "name": "stdout",
     "output_type": "stream",
     "text": [
      "Wrong encoding: LỌLỘLỌLOLOLO101010\n"
     ]
    },
    {
     "name": "stderr",
     "output_type": "stream",
     "text": [
      "\r",
      "Processing jpg:   6%|███▌                                                             | 13/235 [00:11<03:36,  1.03it/s]"
     ]
    },
    {
     "name": "stdout",
     "output_type": "stream",
     "text": [
      "Wrong encoding: CÓ0070GIACỦNH\n"
     ]
    },
    {
     "name": "stderr",
     "output_type": "stream",
     "text": [
      "\r",
      "Processing jpg:   7%|████▍                                                            | 16/235 [00:14<03:21,  1.09it/s]"
     ]
    },
    {
     "name": "stdout",
     "output_type": "stream",
     "text": [
      "Wrong encoding: LÒLỒLỘLàLỘLaLỒLỘLỘ\n"
     ]
    },
    {
     "name": "stderr",
     "output_type": "stream",
     "text": [
      "Processing jpg:  18%|███████████▉                                                     | 43/235 [00:36<02:52,  1.11it/s]"
     ]
    },
    {
     "name": "stdout",
     "output_type": "stream",
     "text": [
      "Wrong encoding: CÓCÓ10ĐICANH\n"
     ]
    },
    {
     "name": "stderr",
     "output_type": "stream",
     "text": [
      "Processing jpg:  22%|██████████████▍                                                  | 52/235 [00:43<02:33,  1.19it/s]"
     ]
    },
    {
     "name": "stdout",
     "output_type": "stream",
     "text": [
      "Wrong encoding: LỌLỘLỌLO-345\n"
     ]
    },
    {
     "name": "stderr",
     "output_type": "stream",
     "text": [
      "Processing jpg:  29%|██████████████████▊                                              | 68/235 [00:53<01:44,  1.59it/s]"
     ]
    },
    {
     "name": "stdout",
     "output_type": "stream",
     "text": [
      "An execution error encountered at page_3.jpg\n"
     ]
    },
    {
     "name": "stderr",
     "output_type": "stream",
     "text": [
      "Processing jpg:  43%|███████████████████████████▌                                    | 101/235 [01:17<01:30,  1.48it/s]"
     ]
    },
    {
     "name": "stdout",
     "output_type": "stream",
     "text": [
      "Wrong encoding: LỒLỒLỘLỒLỒLÀLỘLỒLỘ\n"
     ]
    },
    {
     "name": "stderr",
     "output_type": "stream",
     "text": [
      "Processing jpg:  45%|████████████████████████████▊                                   | 106/235 [01:21<01:38,  1.32it/s]"
     ]
    },
    {
     "name": "stdout",
     "output_type": "stream",
     "text": [
      "Wrong encoding: HƯXẺH*I]:2007/02/1311:24:14測定地点:8M\n"
     ]
    },
    {
     "name": "stderr",
     "output_type": "stream",
     "text": [
      "Processing jpg:  50%|████████████████████████████████▏                               | 118/235 [01:29<01:23,  1.40it/s]"
     ]
    },
    {
     "name": "stdout",
     "output_type": "stream",
     "text": [
      "Wrong encoding: •\n"
     ]
    },
    {
     "name": "stderr",
     "output_type": "stream",
     "text": [
      "\r",
      "Processing jpg:  51%|████████████████████████████████▉                               | 121/235 [01:33<01:33,  1.22it/s]"
     ]
    },
    {
     "name": "stdout",
     "output_type": "stream",
     "text": [
      "Wrong encoding: HẠOVLỌCÓECÓ\n"
     ]
    },
    {
     "name": "stderr",
     "output_type": "stream",
     "text": [
      "Processing jpg:  57%|████████████████████████████████████▍                           | 134/235 [01:42<01:14,  1.35it/s]"
     ]
    },
    {
     "name": "stdout",
     "output_type": "stream",
     "text": [
      "Wrong encoding: H]RẺH*I]:2007/03/2810:14:45測定地点:8M\n"
     ]
    },
    {
     "name": "stderr",
     "output_type": "stream",
     "text": [
      "\r",
      "Processing jpg:  58%|█████████████████████████████████████                           | 136/235 [01:45<01:32,  1.07it/s]"
     ]
    },
    {
     "name": "stdout",
     "output_type": "stream",
     "text": [
      "Wrong encoding: LỄ,L,LỘL,L,Là\n"
     ]
    },
    {
     "name": "stderr",
     "output_type": "stream",
     "text": [
      "Processing jpg:  60%|██████████████████████████████████████▋                         | 142/235 [01:50<01:19,  1.18it/s]"
     ]
    },
    {
     "name": "stdout",
     "output_type": "stream",
     "text": [
      "Wrong encoding: LLồLỒLỒLÀL,L,L\n"
     ]
    },
    {
     "name": "stderr",
     "output_type": "stream",
     "text": [
      "Processing jpg:  63%|████████████████████████████████████████▎                       | 148/235 [01:55<01:12,  1.20it/s]"
     ]
    },
    {
     "name": "stdout",
     "output_type": "stream",
     "text": [
      "Wrong encoding: LỘLỘLỘLỘLỘLỘLỘLÀ23456789\n"
     ]
    },
    {
     "name": "stderr",
     "output_type": "stream",
     "text": [
      "Processing jpg:  71%|█████████████████████████████████████████████▍                  | 167/235 [02:09<00:48,  1.41it/s]"
     ]
    },
    {
     "name": "stdout",
     "output_type": "stream",
     "text": [
      "Wrong encoding: LOLOLỌLỘLỌLỘLỌLOLO\n"
     ]
    },
    {
     "name": "stderr",
     "output_type": "stream",
     "text": [
      "Processing jpg:  73%|██████████████████████████████████████████████▊                 | 172/235 [02:13<00:49,  1.27it/s]"
     ]
    },
    {
     "name": "stdout",
     "output_type": "stream",
     "text": [
      "Wrong encoding: 測定時刻:2007/01/2213:34:41NÍÞÁ:9M\n",
      "Wrong encoding: LỘLỘLOLỒLLỒLàLàCO\n"
     ]
    },
    {
     "name": "stderr",
     "output_type": "stream",
     "text": [
      "Processing jpg:  80%|██████████████████████████████████████████████████▉             | 187/235 [02:24<00:36,  1.33it/s]"
     ]
    },
    {
     "name": "stdout",
     "output_type": "stream",
     "text": [
      "Wrong encoding: 6760LÀ\n"
     ]
    },
    {
     "name": "stderr",
     "output_type": "stream",
     "text": [
      "\r",
      "Processing jpg:  81%|███████████████████████████████████████████████████▋            | 190/235 [02:27<00:35,  1.27it/s]"
     ]
    },
    {
     "name": "stdout",
     "output_type": "stream",
     "text": [
      "Wrong encoding: LỒLỘLỘLLỒLÀLỒLỘLỘ\n"
     ]
    },
    {
     "name": "stderr",
     "output_type": "stream",
     "text": [
      "\r",
      "Processing jpg:  82%|████████████████████████████████████████████████████▌           | 193/235 [02:30<00:36,  1.15it/s]"
     ]
    },
    {
     "name": "stdout",
     "output_type": "stream",
     "text": [
      "Wrong encoding: 測定時刻:2007/01/16NËŁA:8M\n"
     ]
    },
    {
     "name": "stderr",
     "output_type": "stream",
     "text": [
      "Processing jpg:  86%|███████████████████████████████████████████████████████         | 202/235 [02:38<00:30,  1.07it/s]"
     ]
    },
    {
     "name": "stdout",
     "output_type": "stream",
     "text": [
      "Wrong encoding: □N3+10201∞@OHNMLOCOMØ\n"
     ]
    },
    {
     "name": "stderr",
     "output_type": "stream",
     "text": [
      "Processing jpg:  92%|███████████████████████████████████████████████████████████     | 217/235 [02:52<00:16,  1.10it/s]"
     ]
    },
    {
     "name": "stdout",
     "output_type": "stream",
     "text": [
      "Wrong encoding: 測定時刻:2007/01/1110:31:14HURẺPHIẢ:8M\n",
      "Wrong encoding: LỌLỘLỌLLỌLOLO\n"
     ]
    },
    {
     "name": "stderr",
     "output_type": "stream",
     "text": [
      "Processing jpg:  95%|████████████████████████████████████████████████████████████▋   | 223/235 [02:56<00:09,  1.21it/s]"
     ]
    },
    {
     "name": "stdout",
     "output_type": "stream",
     "text": [
      "Wrong encoding: HƯRẺU*I]:2007/01/1010:36:14測定地点:8M\n"
     ]
    },
    {
     "name": "stderr",
     "output_type": "stream",
     "text": [
      "Processing jpg: 100%|████████████████████████████████████████████████████████████████| 235/235 [03:04<00:00,  1.28it/s]\n"
     ]
    }
   ],
   "source": [
    "# OCR all images and return txt files: processing all fn_0\n",
    "save_all_full_text(directory_path=jpg_path,save_path=jpg_path)"
   ]
  },
  {
   "cell_type": "markdown",
   "metadata": {},
   "source": [
    "Processing PDF (3/6)"
   ]
  },
  {
   "cell_type": "code",
   "execution_count": 15,
   "metadata": {},
   "outputs": [],
   "source": [
    "# set paths: save txt file to same folder as jpg\n",
    "fn_2 = STD_files[0]\n",
    "folder_2 = fn_2.replace(\".pdf\",\"\")\n",
    "pdf_path = f'./pdf/STD/{fn_2}'\n",
    "jpg_path = f'./jpg/STD/{folder_2}/'"
   ]
  },
  {
   "cell_type": "code",
   "execution_count": 16,
   "metadata": {},
   "outputs": [
    {
     "name": "stderr",
     "output_type": "stream",
     "text": [
      "Processing Pages: 100%|████████████████████████████████████████████████████████████████| 78/78 [16:14<00:00, 12.50s/it]"
     ]
    },
    {
     "name": "stdout",
     "output_type": "stream",
     "text": [
      "Total page is 78, so exit the program.\n"
     ]
    },
    {
     "name": "stderr",
     "output_type": "stream",
     "text": [
      "\n"
     ]
    }
   ],
   "source": [
    "# convert PDF to JPG\n",
    "pdf_to_images(pdf_path=pdf_path, output_folder=jpg_path, total_pages=None)"
   ]
  },
  {
   "cell_type": "code",
   "execution_count": 17,
   "metadata": {},
   "outputs": [
    {
     "name": "stderr",
     "output_type": "stream",
     "text": [
      "Processing jpg:   4%|██▊                                                              | 10/235 [00:08<03:35,  1.05it/s]"
     ]
    },
    {
     "name": "stdout",
     "output_type": "stream",
     "text": [
      "Wrong encoding: LỌLỘLỌLOLOLO101010\n"
     ]
    },
    {
     "name": "stderr",
     "output_type": "stream",
     "text": [
      "\r",
      "Processing jpg:   6%|███▌                                                             | 13/235 [00:11<03:17,  1.12it/s]"
     ]
    },
    {
     "name": "stdout",
     "output_type": "stream",
     "text": [
      "Wrong encoding: CÓ0070GIACỦNH\n"
     ]
    },
    {
     "name": "stderr",
     "output_type": "stream",
     "text": [
      "\r",
      "Processing jpg:   7%|████▍                                                            | 16/235 [00:13<03:01,  1.21it/s]"
     ]
    },
    {
     "name": "stdout",
     "output_type": "stream",
     "text": [
      "Wrong encoding: LÒLỒLỘLàLỘLaLỒLỘLỘ\n"
     ]
    },
    {
     "name": "stderr",
     "output_type": "stream",
     "text": [
      "Processing jpg:  18%|███████████▉                                                     | 43/235 [00:33<02:31,  1.27it/s]"
     ]
    },
    {
     "name": "stdout",
     "output_type": "stream",
     "text": [
      "Wrong encoding: CÓCÓ10ĐICANH\n"
     ]
    },
    {
     "name": "stderr",
     "output_type": "stream",
     "text": [
      "Processing jpg:  22%|██████████████▍                                                  | 52/235 [00:39<02:07,  1.44it/s]"
     ]
    },
    {
     "name": "stdout",
     "output_type": "stream",
     "text": [
      "Wrong encoding: LỌLỘLỌLO-345\n"
     ]
    },
    {
     "name": "stderr",
     "output_type": "stream",
     "text": [
      "Processing jpg:  29%|██████████████████▊                                              | 68/235 [00:48<01:30,  1.85it/s]"
     ]
    },
    {
     "name": "stdout",
     "output_type": "stream",
     "text": [
      "An execution error encountered at page_3.jpg\n"
     ]
    },
    {
     "name": "stderr",
     "output_type": "stream",
     "text": [
      "Processing jpg:  43%|███████████████████████████▌                                    | 101/235 [01:15<01:34,  1.42it/s]"
     ]
    },
    {
     "name": "stdout",
     "output_type": "stream",
     "text": [
      "Wrong encoding: LỒLỒLỘLỒLỒLÀLỘLỒLỘ\n"
     ]
    },
    {
     "name": "stderr",
     "output_type": "stream",
     "text": [
      "Processing jpg:  45%|████████████████████████████▊                                   | 106/235 [01:19<01:49,  1.18it/s]"
     ]
    },
    {
     "name": "stdout",
     "output_type": "stream",
     "text": [
      "Wrong encoding: HƯXẺH*I]:2007/02/1311:24:14測定地点:8M\n"
     ]
    },
    {
     "name": "stderr",
     "output_type": "stream",
     "text": [
      "Processing jpg:  50%|████████████████████████████████▏                               | 118/235 [01:30<01:46,  1.10it/s]"
     ]
    },
    {
     "name": "stdout",
     "output_type": "stream",
     "text": [
      "Wrong encoding: •\n"
     ]
    },
    {
     "name": "stderr",
     "output_type": "stream",
     "text": [
      "\r",
      "Processing jpg:  51%|████████████████████████████████▉                               | 121/235 [01:33<01:46,  1.07it/s]"
     ]
    },
    {
     "name": "stdout",
     "output_type": "stream",
     "text": [
      "Wrong encoding: HẠOVLỌCÓECÓ\n"
     ]
    },
    {
     "name": "stderr",
     "output_type": "stream",
     "text": [
      "Processing jpg:  57%|████████████████████████████████████▍                           | 134/235 [01:43<01:19,  1.28it/s]"
     ]
    },
    {
     "name": "stdout",
     "output_type": "stream",
     "text": [
      "Wrong encoding: H]RẺH*I]:2007/03/2810:14:45測定地点:8M\n"
     ]
    },
    {
     "name": "stderr",
     "output_type": "stream",
     "text": [
      "\r",
      "Processing jpg:  58%|█████████████████████████████████████                           | 136/235 [01:45<01:22,  1.19it/s]"
     ]
    },
    {
     "name": "stdout",
     "output_type": "stream",
     "text": [
      "Wrong encoding: LỄ,L,LỘL,L,Là\n"
     ]
    },
    {
     "name": "stderr",
     "output_type": "stream",
     "text": [
      "Processing jpg:  60%|██████████████████████████████████████▋                         | 142/235 [01:49<01:11,  1.31it/s]"
     ]
    },
    {
     "name": "stdout",
     "output_type": "stream",
     "text": [
      "Wrong encoding: LLồLỒLỒLÀL,L,L\n"
     ]
    },
    {
     "name": "stderr",
     "output_type": "stream",
     "text": [
      "Processing jpg:  63%|████████████████████████████████████████▎                       | 148/235 [01:53<01:02,  1.39it/s]"
     ]
    },
    {
     "name": "stdout",
     "output_type": "stream",
     "text": [
      "Wrong encoding: LỘLỘLỘLỘLỘLỘLỘLÀ23456789\n"
     ]
    },
    {
     "name": "stderr",
     "output_type": "stream",
     "text": [
      "Processing jpg:  71%|█████████████████████████████████████████████▍                  | 167/235 [02:06<00:44,  1.52it/s]"
     ]
    },
    {
     "name": "stdout",
     "output_type": "stream",
     "text": [
      "Wrong encoding: LOLOLỌLỘLỌLỘLỌLOLO\n"
     ]
    },
    {
     "name": "stderr",
     "output_type": "stream",
     "text": [
      "Processing jpg:  73%|██████████████████████████████████████████████▊                 | 172/235 [02:11<00:49,  1.28it/s]"
     ]
    },
    {
     "name": "stdout",
     "output_type": "stream",
     "text": [
      "Wrong encoding: 測定時刻:2007/01/2213:34:41NÍÞÁ:9M\n",
      "Wrong encoding: LỘLỘLOLỒLLỒLàLàCO\n"
     ]
    },
    {
     "name": "stderr",
     "output_type": "stream",
     "text": [
      "Processing jpg:  80%|██████████████████████████████████████████████████▉             | 187/235 [02:23<00:38,  1.24it/s]"
     ]
    },
    {
     "name": "stdout",
     "output_type": "stream",
     "text": [
      "Wrong encoding: 6760LÀ\n"
     ]
    },
    {
     "name": "stderr",
     "output_type": "stream",
     "text": [
      "\r",
      "Processing jpg:  81%|███████████████████████████████████████████████████▋            | 190/235 [02:26<00:38,  1.18it/s]"
     ]
    },
    {
     "name": "stdout",
     "output_type": "stream",
     "text": [
      "Wrong encoding: LỒLỘLỘLLỒLÀLỒLỘLỘ\n"
     ]
    },
    {
     "name": "stderr",
     "output_type": "stream",
     "text": [
      "\r",
      "Processing jpg:  82%|████████████████████████████████████████████████████▌           | 193/235 [02:29<00:35,  1.17it/s]"
     ]
    },
    {
     "name": "stdout",
     "output_type": "stream",
     "text": [
      "Wrong encoding: 測定時刻:2007/01/16NËŁA:8M\n"
     ]
    },
    {
     "name": "stderr",
     "output_type": "stream",
     "text": [
      "Processing jpg:  86%|███████████████████████████████████████████████████████         | 202/235 [02:37<00:33,  1.01s/it]"
     ]
    },
    {
     "name": "stdout",
     "output_type": "stream",
     "text": [
      "Wrong encoding: □N3+10201∞@OHNMLOCOMØ\n"
     ]
    },
    {
     "name": "stderr",
     "output_type": "stream",
     "text": [
      "Processing jpg:  92%|███████████████████████████████████████████████████████████     | 217/235 [02:50<00:16,  1.08it/s]"
     ]
    },
    {
     "name": "stdout",
     "output_type": "stream",
     "text": [
      "Wrong encoding: 測定時刻:2007/01/1110:31:14HURẺPHIẢ:8M\n",
      "Wrong encoding: LỌLỘLỌLLỌLOLO\n"
     ]
    },
    {
     "name": "stderr",
     "output_type": "stream",
     "text": [
      "Processing jpg:  95%|████████████████████████████████████████████████████████████▋   | 223/235 [02:54<00:09,  1.21it/s]"
     ]
    },
    {
     "name": "stdout",
     "output_type": "stream",
     "text": [
      "Wrong encoding: HƯRẺU*I]:2007/01/1010:36:14測定地点:8M\n"
     ]
    },
    {
     "name": "stderr",
     "output_type": "stream",
     "text": [
      "Processing jpg: 100%|████████████████████████████████████████████████████████████████| 235/235 [03:02<00:00,  1.29it/s]\n"
     ]
    }
   ],
   "source": [
    "# OCR all images and return txt files: processing all fn_0\n",
    "save_all_full_text(directory_path=jpg_path,save_path=jpg_path)"
   ]
  },
  {
   "cell_type": "markdown",
   "metadata": {},
   "source": [
    "Processing PDF (4/6)"
   ]
  },
  {
   "cell_type": "code",
   "execution_count": 18,
   "metadata": {},
   "outputs": [],
   "source": [
    "# set paths: save txt file to same folder as jpg\n",
    "fn_3 = STD_files[0]\n",
    "folder_3 = fn_3.replace(\".pdf\",\"\")\n",
    "pdf_path = f'./pdf/STD/{fn_3}'\n",
    "jpg_path = f'./jpg/STD/{folder_3}/'"
   ]
  },
  {
   "cell_type": "code",
   "execution_count": 19,
   "metadata": {},
   "outputs": [
    {
     "name": "stderr",
     "output_type": "stream",
     "text": [
      "Processing Pages: 100%|████████████████████████████████████████████████████████████████| 78/78 [18:46<00:00, 14.44s/it]"
     ]
    },
    {
     "name": "stdout",
     "output_type": "stream",
     "text": [
      "Total page is 78, so exit the program.\n"
     ]
    },
    {
     "name": "stderr",
     "output_type": "stream",
     "text": [
      "\n"
     ]
    }
   ],
   "source": [
    "# convert PDF to JPG\n",
    "pdf_to_images(pdf_path=pdf_path, output_folder=jpg_path, total_pages=None)"
   ]
  },
  {
   "cell_type": "code",
   "execution_count": 20,
   "metadata": {},
   "outputs": [
    {
     "name": "stderr",
     "output_type": "stream",
     "text": [
      "Processing jpg:   4%|██▊                                                              | 10/235 [00:09<03:40,  1.02it/s]"
     ]
    },
    {
     "name": "stdout",
     "output_type": "stream",
     "text": [
      "Wrong encoding: LỌLỘLỌLOLOLO101010\n"
     ]
    },
    {
     "name": "stderr",
     "output_type": "stream",
     "text": [
      "\r",
      "Processing jpg:   6%|███▌                                                             | 13/235 [00:11<03:30,  1.06it/s]"
     ]
    },
    {
     "name": "stdout",
     "output_type": "stream",
     "text": [
      "Wrong encoding: CÓ0070GIACỦNH\n"
     ]
    },
    {
     "name": "stderr",
     "output_type": "stream",
     "text": [
      "\r",
      "Processing jpg:   7%|████▍                                                            | 16/235 [00:14<03:14,  1.13it/s]"
     ]
    },
    {
     "name": "stdout",
     "output_type": "stream",
     "text": [
      "Wrong encoding: LÒLỒLỘLàLỘLaLỒLỘLỘ\n"
     ]
    },
    {
     "name": "stderr",
     "output_type": "stream",
     "text": [
      "Processing jpg:  18%|███████████▉                                                     | 43/235 [00:36<02:48,  1.14it/s]"
     ]
    },
    {
     "name": "stdout",
     "output_type": "stream",
     "text": [
      "Wrong encoding: CÓCÓ10ĐICANH\n"
     ]
    },
    {
     "name": "stderr",
     "output_type": "stream",
     "text": [
      "Processing jpg:  22%|██████████████▍                                                  | 52/235 [00:43<02:31,  1.20it/s]"
     ]
    },
    {
     "name": "stdout",
     "output_type": "stream",
     "text": [
      "Wrong encoding: LỌLỘLỌLO-345\n"
     ]
    },
    {
     "name": "stderr",
     "output_type": "stream",
     "text": [
      "Processing jpg:  29%|██████████████████▊                                              | 68/235 [00:53<01:45,  1.59it/s]"
     ]
    },
    {
     "name": "stdout",
     "output_type": "stream",
     "text": [
      "An execution error encountered at page_3.jpg\n"
     ]
    },
    {
     "name": "stderr",
     "output_type": "stream",
     "text": [
      "Processing jpg:  43%|███████████████████████████▌                                    | 101/235 [01:22<01:55,  1.16it/s]"
     ]
    },
    {
     "name": "stdout",
     "output_type": "stream",
     "text": [
      "Wrong encoding: LỒLỒLỘLỒLỒLÀLỘLỒLỘ\n"
     ]
    },
    {
     "name": "stderr",
     "output_type": "stream",
     "text": [
      "Processing jpg:  45%|████████████████████████████▊                                   | 106/235 [01:27<02:00,  1.07it/s]"
     ]
    },
    {
     "name": "stdout",
     "output_type": "stream",
     "text": [
      "Wrong encoding: HƯXẺH*I]:2007/02/1311:24:14測定地点:8M\n"
     ]
    },
    {
     "name": "stderr",
     "output_type": "stream",
     "text": [
      "Processing jpg:  50%|████████████████████████████████▏                               | 118/235 [01:36<01:38,  1.19it/s]"
     ]
    },
    {
     "name": "stdout",
     "output_type": "stream",
     "text": [
      "Wrong encoding: •\n"
     ]
    },
    {
     "name": "stderr",
     "output_type": "stream",
     "text": [
      "\r",
      "Processing jpg:  51%|████████████████████████████████▉                               | 121/235 [01:40<01:45,  1.08it/s]"
     ]
    },
    {
     "name": "stdout",
     "output_type": "stream",
     "text": [
      "Wrong encoding: HẠOVLỌCÓECÓ\n"
     ]
    },
    {
     "name": "stderr",
     "output_type": "stream",
     "text": [
      "Processing jpg:  57%|████████████████████████████████████▍                           | 134/235 [01:51<01:26,  1.16it/s]"
     ]
    },
    {
     "name": "stdout",
     "output_type": "stream",
     "text": [
      "Wrong encoding: H]RẺH*I]:2007/03/2810:14:45測定地点:8M\n"
     ]
    },
    {
     "name": "stderr",
     "output_type": "stream",
     "text": [
      "\r",
      "Processing jpg:  58%|█████████████████████████████████████                           | 136/235 [01:54<01:48,  1.09s/it]"
     ]
    },
    {
     "name": "stdout",
     "output_type": "stream",
     "text": [
      "Wrong encoding: LỄ,L,LỘL,L,Là\n"
     ]
    },
    {
     "name": "stderr",
     "output_type": "stream",
     "text": [
      "Processing jpg:  60%|██████████████████████████████████████▋                         | 142/235 [01:59<01:25,  1.09it/s]"
     ]
    },
    {
     "name": "stdout",
     "output_type": "stream",
     "text": [
      "Wrong encoding: LLồLỒLỒLÀL,L,L\n"
     ]
    },
    {
     "name": "stderr",
     "output_type": "stream",
     "text": [
      "Processing jpg:  63%|████████████████████████████████████████▎                       | 148/235 [02:03<01:11,  1.22it/s]"
     ]
    },
    {
     "name": "stdout",
     "output_type": "stream",
     "text": [
      "Wrong encoding: LỘLỘLỘLỘLỘLỘLỘLÀ23456789\n"
     ]
    },
    {
     "name": "stderr",
     "output_type": "stream",
     "text": [
      "Processing jpg:  71%|█████████████████████████████████████████████▍                  | 167/235 [02:17<00:47,  1.44it/s]"
     ]
    },
    {
     "name": "stdout",
     "output_type": "stream",
     "text": [
      "Wrong encoding: LOLOLỌLỘLỌLỘLỌLOLO\n"
     ]
    },
    {
     "name": "stderr",
     "output_type": "stream",
     "text": [
      "Processing jpg:  73%|██████████████████████████████████████████████▊                 | 172/235 [02:23<00:56,  1.12it/s]"
     ]
    },
    {
     "name": "stdout",
     "output_type": "stream",
     "text": [
      "Wrong encoding: 測定時刻:2007/01/2213:34:41NÍÞÁ:9M\n",
      "Wrong encoding: LỘLỘLOLỒLLỒLàLàCO\n"
     ]
    },
    {
     "name": "stderr",
     "output_type": "stream",
     "text": [
      "Processing jpg:  80%|██████████████████████████████████████████████████▉             | 187/235 [02:37<00:42,  1.14it/s]"
     ]
    },
    {
     "name": "stdout",
     "output_type": "stream",
     "text": [
      "Wrong encoding: 6760LÀ\n"
     ]
    },
    {
     "name": "stderr",
     "output_type": "stream",
     "text": [
      "\r",
      "Processing jpg:  81%|███████████████████████████████████████████████████▋            | 190/235 [02:39<00:38,  1.17it/s]"
     ]
    },
    {
     "name": "stdout",
     "output_type": "stream",
     "text": [
      "Wrong encoding: LỒLỘLỘLLỒLÀLỒLỘLỘ\n"
     ]
    },
    {
     "name": "stderr",
     "output_type": "stream",
     "text": [
      "\r",
      "Processing jpg:  82%|████████████████████████████████████████████████████▌           | 193/235 [02:41<00:33,  1.24it/s]"
     ]
    },
    {
     "name": "stdout",
     "output_type": "stream",
     "text": [
      "Wrong encoding: 測定時刻:2007/01/16NËŁA:8M\n"
     ]
    },
    {
     "name": "stderr",
     "output_type": "stream",
     "text": [
      "Processing jpg:  86%|███████████████████████████████████████████████████████         | 202/235 [02:50<00:32,  1.03it/s]"
     ]
    },
    {
     "name": "stdout",
     "output_type": "stream",
     "text": [
      "Wrong encoding: □N3+10201∞@OHNMLOCOMØ\n"
     ]
    },
    {
     "name": "stderr",
     "output_type": "stream",
     "text": [
      "Processing jpg:  92%|███████████████████████████████████████████████████████████     | 217/235 [03:03<00:16,  1.11it/s]"
     ]
    },
    {
     "name": "stdout",
     "output_type": "stream",
     "text": [
      "Wrong encoding: 測定時刻:2007/01/1110:31:14HURẺPHIẢ:8M\n",
      "Wrong encoding: LỌLỘLỌLLỌLOLO\n"
     ]
    },
    {
     "name": "stderr",
     "output_type": "stream",
     "text": [
      "Processing jpg:  95%|████████████████████████████████████████████████████████████▋   | 223/235 [03:08<00:10,  1.12it/s]"
     ]
    },
    {
     "name": "stdout",
     "output_type": "stream",
     "text": [
      "Wrong encoding: HƯRẺU*I]:2007/01/1010:36:14測定地点:8M\n"
     ]
    },
    {
     "name": "stderr",
     "output_type": "stream",
     "text": [
      "Processing jpg: 100%|████████████████████████████████████████████████████████████████| 235/235 [03:15<00:00,  1.20it/s]\n"
     ]
    }
   ],
   "source": [
    "# OCR all images and return txt files: processing all fn_0\n",
    "save_all_full_text(directory_path=jpg_path,save_path=jpg_path)"
   ]
  },
  {
   "cell_type": "markdown",
   "metadata": {},
   "source": [
    "Processing PDF (5/6)"
   ]
  },
  {
   "cell_type": "code",
   "execution_count": 21,
   "metadata": {},
   "outputs": [],
   "source": [
    "# set paths: save txt file to same folder as jpg\n",
    "fn_4 = STD_files[0]\n",
    "folder_4 = fn_4.replace(\".pdf\",\"\")\n",
    "pdf_path = f'./pdf/STD/{fn_4}'\n",
    "jpg_path = f'./jpg/STD/{folder_4}/'"
   ]
  },
  {
   "cell_type": "code",
   "execution_count": 22,
   "metadata": {},
   "outputs": [
    {
     "name": "stderr",
     "output_type": "stream",
     "text": [
      "Processing Pages: 100%|████████████████████████████████████████████████████████████████| 78/78 [17:17<00:00, 13.30s/it]"
     ]
    },
    {
     "name": "stdout",
     "output_type": "stream",
     "text": [
      "Total page is 78, so exit the program.\n"
     ]
    },
    {
     "name": "stderr",
     "output_type": "stream",
     "text": [
      "\n"
     ]
    }
   ],
   "source": [
    "# convert PDF to JPG\n",
    "pdf_to_images(pdf_path=pdf_path, output_folder=jpg_path, total_pages=None)"
   ]
  },
  {
   "cell_type": "code",
   "execution_count": 23,
   "metadata": {},
   "outputs": [
    {
     "name": "stderr",
     "output_type": "stream",
     "text": [
      "Processing jpg:   4%|██▊                                                              | 10/235 [00:09<03:21,  1.11it/s]"
     ]
    },
    {
     "name": "stdout",
     "output_type": "stream",
     "text": [
      "Wrong encoding: LỌLỘLỌLOLOLO101010\n"
     ]
    },
    {
     "name": "stderr",
     "output_type": "stream",
     "text": [
      "\r",
      "Processing jpg:   6%|███▌                                                             | 13/235 [00:11<03:21,  1.10it/s]"
     ]
    },
    {
     "name": "stdout",
     "output_type": "stream",
     "text": [
      "Wrong encoding: CÓ0070GIACỦNH\n"
     ]
    },
    {
     "name": "stderr",
     "output_type": "stream",
     "text": [
      "\r",
      "Processing jpg:   7%|████▍                                                            | 16/235 [00:14<03:11,  1.15it/s]"
     ]
    },
    {
     "name": "stdout",
     "output_type": "stream",
     "text": [
      "Wrong encoding: LÒLỒLỘLàLỘLaLỒLỘLỘ\n"
     ]
    },
    {
     "name": "stderr",
     "output_type": "stream",
     "text": [
      "Processing jpg:  18%|███████████▉                                                     | 43/235 [00:37<02:41,  1.19it/s]"
     ]
    },
    {
     "name": "stdout",
     "output_type": "stream",
     "text": [
      "Wrong encoding: CÓCÓ10ĐICANH\n"
     ]
    },
    {
     "name": "stderr",
     "output_type": "stream",
     "text": [
      "Processing jpg:  22%|██████████████▍                                                  | 52/235 [00:42<01:59,  1.53it/s]"
     ]
    },
    {
     "name": "stdout",
     "output_type": "stream",
     "text": [
      "Wrong encoding: LỌLỘLỌLO-345\n"
     ]
    },
    {
     "name": "stderr",
     "output_type": "stream",
     "text": [
      "Processing jpg:  29%|██████████████████▊                                              | 68/235 [00:53<01:45,  1.59it/s]"
     ]
    },
    {
     "name": "stdout",
     "output_type": "stream",
     "text": [
      "An execution error encountered at page_3.jpg\n"
     ]
    },
    {
     "name": "stderr",
     "output_type": "stream",
     "text": [
      "Processing jpg:  43%|███████████████████████████▌                                    | 101/235 [01:18<01:34,  1.42it/s]"
     ]
    },
    {
     "name": "stdout",
     "output_type": "stream",
     "text": [
      "Wrong encoding: LỒLỒLỘLỒLỒLÀLỘLỒLỘ\n"
     ]
    },
    {
     "name": "stderr",
     "output_type": "stream",
     "text": [
      "Processing jpg:  45%|████████████████████████████▊                                   | 106/235 [01:24<02:01,  1.06it/s]"
     ]
    },
    {
     "name": "stdout",
     "output_type": "stream",
     "text": [
      "Wrong encoding: HƯXẺH*I]:2007/02/1311:24:14測定地点:8M\n"
     ]
    },
    {
     "name": "stderr",
     "output_type": "stream",
     "text": [
      "Processing jpg:  50%|████████████████████████████████▏                               | 118/235 [01:31<01:25,  1.37it/s]"
     ]
    },
    {
     "name": "stdout",
     "output_type": "stream",
     "text": [
      "Wrong encoding: •\n"
     ]
    },
    {
     "name": "stderr",
     "output_type": "stream",
     "text": [
      "\r",
      "Processing jpg:  51%|████████████████████████████████▉                               | 121/235 [01:34<01:26,  1.31it/s]"
     ]
    },
    {
     "name": "stdout",
     "output_type": "stream",
     "text": [
      "Wrong encoding: HẠOVLỌCÓECÓ\n"
     ]
    },
    {
     "name": "stderr",
     "output_type": "stream",
     "text": [
      "Processing jpg:  57%|████████████████████████████████████▍                           | 134/235 [01:43<01:10,  1.44it/s]"
     ]
    },
    {
     "name": "stdout",
     "output_type": "stream",
     "text": [
      "Wrong encoding: H]RẺH*I]:2007/03/2810:14:45測定地点:8M\n"
     ]
    },
    {
     "name": "stderr",
     "output_type": "stream",
     "text": [
      "\r",
      "Processing jpg:  58%|█████████████████████████████████████                           | 136/235 [01:45<01:16,  1.30it/s]"
     ]
    },
    {
     "name": "stdout",
     "output_type": "stream",
     "text": [
      "Wrong encoding: LỄ,L,LỘL,L,Là\n"
     ]
    },
    {
     "name": "stderr",
     "output_type": "stream",
     "text": [
      "Processing jpg:  60%|██████████████████████████████████████▋                         | 142/235 [01:50<01:12,  1.28it/s]"
     ]
    },
    {
     "name": "stdout",
     "output_type": "stream",
     "text": [
      "Wrong encoding: LLồLỒLỒLÀL,L,L\n"
     ]
    },
    {
     "name": "stderr",
     "output_type": "stream",
     "text": [
      "Processing jpg:  63%|████████████████████████████████████████▎                       | 148/235 [01:54<01:03,  1.36it/s]"
     ]
    },
    {
     "name": "stdout",
     "output_type": "stream",
     "text": [
      "Wrong encoding: LỘLỘLỘLỘLỘLỘLỘLÀ23456789\n"
     ]
    },
    {
     "name": "stderr",
     "output_type": "stream",
     "text": [
      "Processing jpg:  71%|█████████████████████████████████████████████▍                  | 167/235 [02:09<00:50,  1.34it/s]"
     ]
    },
    {
     "name": "stdout",
     "output_type": "stream",
     "text": [
      "Wrong encoding: LOLOLỌLỘLỌLỘLỌLOLO\n"
     ]
    },
    {
     "name": "stderr",
     "output_type": "stream",
     "text": [
      "Processing jpg:  73%|██████████████████████████████████████████████▊                 | 172/235 [02:14<00:56,  1.11it/s]"
     ]
    },
    {
     "name": "stdout",
     "output_type": "stream",
     "text": [
      "Wrong encoding: 測定時刻:2007/01/2213:34:41NÍÞÁ:9M\n",
      "Wrong encoding: LỘLỘLOLỒLLỒLàLàCO\n"
     ]
    },
    {
     "name": "stderr",
     "output_type": "stream",
     "text": [
      "Processing jpg:  80%|██████████████████████████████████████████████████▉             | 187/235 [02:24<00:36,  1.33it/s]"
     ]
    },
    {
     "name": "stdout",
     "output_type": "stream",
     "text": [
      "Wrong encoding: 6760LÀ\n"
     ]
    },
    {
     "name": "stderr",
     "output_type": "stream",
     "text": [
      "\r",
      "Processing jpg:  81%|███████████████████████████████████████████████████▋            | 190/235 [02:26<00:31,  1.45it/s]"
     ]
    },
    {
     "name": "stdout",
     "output_type": "stream",
     "text": [
      "Wrong encoding: LỒLỘLỘLLỒLÀLỒLỘLỘ\n"
     ]
    },
    {
     "name": "stderr",
     "output_type": "stream",
     "text": [
      "\r",
      "Processing jpg:  82%|████████████████████████████████████████████████████▌           | 193/235 [02:29<00:31,  1.34it/s]"
     ]
    },
    {
     "name": "stdout",
     "output_type": "stream",
     "text": [
      "Wrong encoding: 測定時刻:2007/01/16NËŁA:8M\n"
     ]
    },
    {
     "name": "stderr",
     "output_type": "stream",
     "text": [
      "Processing jpg:  86%|███████████████████████████████████████████████████████         | 202/235 [02:35<00:26,  1.25it/s]"
     ]
    },
    {
     "name": "stdout",
     "output_type": "stream",
     "text": [
      "Wrong encoding: □N3+10201∞@OHNMLOCOMØ\n"
     ]
    },
    {
     "name": "stderr",
     "output_type": "stream",
     "text": [
      "Processing jpg:  92%|███████████████████████████████████████████████████████████     | 217/235 [02:48<00:14,  1.22it/s]"
     ]
    },
    {
     "name": "stdout",
     "output_type": "stream",
     "text": [
      "Wrong encoding: 測定時刻:2007/01/1110:31:14HURẺPHIẢ:8M\n",
      "Wrong encoding: LỌLỘLỌLLỌLOLO\n"
     ]
    },
    {
     "name": "stderr",
     "output_type": "stream",
     "text": [
      "Processing jpg:  95%|████████████████████████████████████████████████████████████▋   | 223/235 [02:52<00:09,  1.25it/s]"
     ]
    },
    {
     "name": "stdout",
     "output_type": "stream",
     "text": [
      "Wrong encoding: HƯRẺU*I]:2007/01/1010:36:14測定地点:8M\n"
     ]
    },
    {
     "name": "stderr",
     "output_type": "stream",
     "text": [
      "Processing jpg: 100%|████████████████████████████████████████████████████████████████| 235/235 [03:00<00:00,  1.30it/s]\n"
     ]
    }
   ],
   "source": [
    "# OCR all images and return txt files: processing all fn_0\n",
    "save_all_full_text(directory_path=jpg_path,save_path=jpg_path)"
   ]
  },
  {
   "cell_type": "markdown",
   "metadata": {},
   "source": [
    "Processing PDF (6/6)"
   ]
  },
  {
   "cell_type": "code",
   "execution_count": 24,
   "metadata": {},
   "outputs": [],
   "source": [
    "# set paths: save txt file to same folder as jpg\n",
    "fn_5 = STD_files[0]\n",
    "folder_5 = fn_5.replace(\".pdf\",\"\")\n",
    "pdf_path = f'./pdf/STD/{fn_5}'\n",
    "jpg_path = f'./jpg/STD/{folder_5}/'"
   ]
  },
  {
   "cell_type": "code",
   "execution_count": 25,
   "metadata": {},
   "outputs": [
    {
     "name": "stderr",
     "output_type": "stream",
     "text": [
      "Processing Pages: 100%|████████████████████████████████████████████████████████████████| 78/78 [16:36<00:00, 12.78s/it]"
     ]
    },
    {
     "name": "stdout",
     "output_type": "stream",
     "text": [
      "Total page is 78, so exit the program.\n"
     ]
    },
    {
     "name": "stderr",
     "output_type": "stream",
     "text": [
      "\n"
     ]
    }
   ],
   "source": [
    "# convert PDF to JPG\n",
    "pdf_to_images(pdf_path=pdf_path, output_folder=jpg_path, total_pages=None)"
   ]
  },
  {
   "cell_type": "code",
   "execution_count": 26,
   "metadata": {},
   "outputs": [
    {
     "name": "stderr",
     "output_type": "stream",
     "text": [
      "Processing jpg:   4%|██▊                                                              | 10/235 [00:08<03:17,  1.14it/s]"
     ]
    },
    {
     "name": "stdout",
     "output_type": "stream",
     "text": [
      "Wrong encoding: LỌLỘLỌLOLOLO101010\n"
     ]
    },
    {
     "name": "stderr",
     "output_type": "stream",
     "text": [
      "\r",
      "Processing jpg:   6%|███▌                                                             | 13/235 [00:11<03:18,  1.12it/s]"
     ]
    },
    {
     "name": "stdout",
     "output_type": "stream",
     "text": [
      "Wrong encoding: CÓ0070GIACỦNH\n"
     ]
    },
    {
     "name": "stderr",
     "output_type": "stream",
     "text": [
      "\r",
      "Processing jpg:   7%|████▍                                                            | 16/235 [00:13<02:57,  1.23it/s]"
     ]
    },
    {
     "name": "stdout",
     "output_type": "stream",
     "text": [
      "Wrong encoding: LÒLỒLỘLàLỘLaLỒLỘLỘ\n"
     ]
    },
    {
     "name": "stderr",
     "output_type": "stream",
     "text": [
      "Processing jpg:  18%|███████████▉                                                     | 43/235 [00:35<02:39,  1.21it/s]"
     ]
    },
    {
     "name": "stdout",
     "output_type": "stream",
     "text": [
      "Wrong encoding: CÓCÓ10ĐICANH\n"
     ]
    },
    {
     "name": "stderr",
     "output_type": "stream",
     "text": [
      "Processing jpg:  22%|██████████████▍                                                  | 52/235 [00:42<02:16,  1.34it/s]"
     ]
    },
    {
     "name": "stdout",
     "output_type": "stream",
     "text": [
      "Wrong encoding: LỌLỘLỌLO-345\n"
     ]
    },
    {
     "name": "stderr",
     "output_type": "stream",
     "text": [
      "Processing jpg:  29%|██████████████████▊                                              | 68/235 [00:51<01:35,  1.75it/s]"
     ]
    },
    {
     "name": "stdout",
     "output_type": "stream",
     "text": [
      "An execution error encountered at page_3.jpg\n"
     ]
    },
    {
     "name": "stderr",
     "output_type": "stream",
     "text": [
      "Processing jpg:  43%|███████████████████████████▌                                    | 101/235 [01:18<01:34,  1.42it/s]"
     ]
    },
    {
     "name": "stdout",
     "output_type": "stream",
     "text": [
      "Wrong encoding: LỒLỒLỘLỒLỒLÀLỘLỒLỘ\n"
     ]
    },
    {
     "name": "stderr",
     "output_type": "stream",
     "text": [
      "Processing jpg:  45%|████████████████████████████▊                                   | 106/235 [01:24<02:02,  1.05it/s]"
     ]
    },
    {
     "name": "stdout",
     "output_type": "stream",
     "text": [
      "Wrong encoding: HƯXẺH*I]:2007/02/1311:24:14測定地点:8M\n"
     ]
    },
    {
     "name": "stderr",
     "output_type": "stream",
     "text": [
      "Processing jpg:  50%|████████████████████████████████▏                               | 118/235 [01:34<01:42,  1.14it/s]"
     ]
    },
    {
     "name": "stdout",
     "output_type": "stream",
     "text": [
      "Wrong encoding: •\n"
     ]
    },
    {
     "name": "stderr",
     "output_type": "stream",
     "text": [
      "\r",
      "Processing jpg:  51%|████████████████████████████████▉                               | 121/235 [01:37<01:45,  1.08it/s]"
     ]
    },
    {
     "name": "stdout",
     "output_type": "stream",
     "text": [
      "Wrong encoding: HẠOVLỌCÓECÓ\n"
     ]
    },
    {
     "name": "stderr",
     "output_type": "stream",
     "text": [
      "Processing jpg:  57%|████████████████████████████████████▍                           | 134/235 [01:47<01:22,  1.23it/s]"
     ]
    },
    {
     "name": "stdout",
     "output_type": "stream",
     "text": [
      "Wrong encoding: H]RẺH*I]:2007/03/2810:14:45測定地点:8M\n"
     ]
    },
    {
     "name": "stderr",
     "output_type": "stream",
     "text": [
      "\r",
      "Processing jpg:  58%|█████████████████████████████████████                           | 136/235 [01:49<01:27,  1.13it/s]"
     ]
    },
    {
     "name": "stdout",
     "output_type": "stream",
     "text": [
      "Wrong encoding: LỄ,L,LỘL,L,Là\n"
     ]
    },
    {
     "name": "stderr",
     "output_type": "stream",
     "text": [
      "Processing jpg:  60%|██████████████████████████████████████▋                         | 142/235 [01:55<01:22,  1.13it/s]"
     ]
    },
    {
     "name": "stdout",
     "output_type": "stream",
     "text": [
      "Wrong encoding: LLồLỒLỒLÀL,L,L\n"
     ]
    },
    {
     "name": "stderr",
     "output_type": "stream",
     "text": [
      "Processing jpg:  63%|████████████████████████████████████████▎                       | 148/235 [01:59<01:13,  1.19it/s]"
     ]
    },
    {
     "name": "stdout",
     "output_type": "stream",
     "text": [
      "Wrong encoding: LỘLỘLỘLỘLỘLỘLỘLÀ23456789\n"
     ]
    },
    {
     "name": "stderr",
     "output_type": "stream",
     "text": [
      "Processing jpg:  71%|█████████████████████████████████████████████▍                  | 167/235 [02:12<00:45,  1.51it/s]"
     ]
    },
    {
     "name": "stdout",
     "output_type": "stream",
     "text": [
      "Wrong encoding: LOLOLỌLỘLỌLỘLỌLOLO\n"
     ]
    },
    {
     "name": "stderr",
     "output_type": "stream",
     "text": [
      "Processing jpg:  73%|██████████████████████████████████████████████▊                 | 172/235 [02:17<00:52,  1.21it/s]"
     ]
    },
    {
     "name": "stdout",
     "output_type": "stream",
     "text": [
      "Wrong encoding: 測定時刻:2007/01/2213:34:41NÍÞÁ:9M\n",
      "Wrong encoding: LỘLỘLOLỒLLỒLàLàCO\n"
     ]
    },
    {
     "name": "stderr",
     "output_type": "stream",
     "text": [
      "Processing jpg:  80%|██████████████████████████████████████████████████▉             | 187/235 [02:31<00:41,  1.15it/s]"
     ]
    },
    {
     "name": "stdout",
     "output_type": "stream",
     "text": [
      "Wrong encoding: 6760LÀ\n"
     ]
    },
    {
     "name": "stderr",
     "output_type": "stream",
     "text": [
      "\r",
      "Processing jpg:  81%|███████████████████████████████████████████████████▋            | 190/235 [02:33<00:37,  1.20it/s]"
     ]
    },
    {
     "name": "stdout",
     "output_type": "stream",
     "text": [
      "Wrong encoding: LỒLỘLỘLLỒLÀLỒLỘLỘ\n"
     ]
    },
    {
     "name": "stderr",
     "output_type": "stream",
     "text": [
      "\r",
      "Processing jpg:  82%|████████████████████████████████████████████████████▌           | 193/235 [02:36<00:34,  1.22it/s]"
     ]
    },
    {
     "name": "stdout",
     "output_type": "stream",
     "text": [
      "Wrong encoding: 測定時刻:2007/01/16NËŁA:8M\n"
     ]
    },
    {
     "name": "stderr",
     "output_type": "stream",
     "text": [
      "Processing jpg:  86%|███████████████████████████████████████████████████████         | 202/235 [02:43<00:29,  1.11it/s]"
     ]
    },
    {
     "name": "stdout",
     "output_type": "stream",
     "text": [
      "Wrong encoding: □N3+10201∞@OHNMLOCOMØ\n"
     ]
    },
    {
     "name": "stderr",
     "output_type": "stream",
     "text": [
      "Processing jpg:  92%|███████████████████████████████████████████████████████████     | 217/235 [02:57<00:16,  1.09it/s]"
     ]
    },
    {
     "name": "stdout",
     "output_type": "stream",
     "text": [
      "Wrong encoding: 測定時刻:2007/01/1110:31:14HURẺPHIẢ:8M\n",
      "Wrong encoding: LỌLỘLỌLLỌLOLO\n"
     ]
    },
    {
     "name": "stderr",
     "output_type": "stream",
     "text": [
      "Processing jpg:  95%|████████████████████████████████████████████████████████████▋   | 223/235 [03:03<00:11,  1.05it/s]"
     ]
    },
    {
     "name": "stdout",
     "output_type": "stream",
     "text": [
      "Wrong encoding: HƯRẺU*I]:2007/01/1010:36:14測定地点:8M\n"
     ]
    },
    {
     "name": "stderr",
     "output_type": "stream",
     "text": [
      "Processing jpg: 100%|████████████████████████████████████████████████████████████████| 235/235 [03:09<00:00,  1.24it/s]\n"
     ]
    }
   ],
   "source": [
    "# OCR all images and return txt files: processing all fn_0\n",
    "save_all_full_text(directory_path=jpg_path,save_path=jpg_path)"
   ]
  },
  {
   "cell_type": "code",
   "execution_count": 27,
   "metadata": {},
   "outputs": [],
   "source": [
    "# testing page_22, page_23\n",
    "#testing_path = f'./jpg/STD/testing/'\n",
    "#save_all_full_text(directory_path=testing_path,save_path=testing_path)"
   ]
  },
  {
   "cell_type": "markdown",
   "metadata": {},
   "source": [
    "End of code"
   ]
  }
 ],
 "metadata": {
  "kernelspec": {
   "display_name": "Python 3",
   "language": "python",
   "name": "python3"
  },
  "language_info": {
   "codemirror_mode": {
    "name": "ipython",
    "version": 3
   },
   "file_extension": ".py",
   "mimetype": "text/x-python",
   "name": "python",
   "nbconvert_exporter": "python",
   "pygments_lexer": "ipython3",
   "version": "3.7.6"
  }
 },
 "nbformat": 4,
 "nbformat_minor": 4
}
