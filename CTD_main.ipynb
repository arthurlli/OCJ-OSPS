{
 "cells": [
  {
   "cell_type": "code",
   "execution_count": 1,
   "metadata": {
    "pycharm": {
     "name": "#%%\n"
    }
   },
   "outputs": [],
   "source": [
    "# Import libraries\n",
    "import numpy as np\n",
    "import pandas as pd\n",
    "import matplotlib.pyplot as plt\n",
    "import os\n",
    "import re"
   ]
  },
  {
   "cell_type": "code",
   "execution_count": 2,
   "metadata": {
    "pycharm": {
     "name": "#%%\n"
    }
   },
   "outputs": [],
   "source": [
    "# A class to store and parse filename \n",
    "class filenameClass:\n",
    "    def __init__(self, fn):\n",
    "        self.fn = fn\n",
    "        return\n",
    "\n",
    "    def fn_parser(self):\n",
    "        # define regex for CTD RINKO data: date, time, sondeName, sondeNumber, dummy, fieltype\n",
    "        filename = self.fn\n",
    "        pattern = r'^(?P<date>\\d{8})(?P<time>\\d{4})_(?P<sonde_name>[A-Z\\d-]+)_(?P<sonde_number>\\d{4})_(?P<dummy>\\d{6})\\.(?P<filetype>[a-zA-Z]+)$'\n",
    "        # match filename and pattern\n",
    "        match = re.match(pattern, filename)\n",
    "        if match:\n",
    "            #return match\n",
    "            self.date = match.group('date')\n",
    "            self.time = match.group('time')\n",
    "            self.sonde_name = match.group('sonde_name')\n",
    "            self.sonde_number = match.group('sonde_number')\n",
    "            self.dummy = match.group('dummy')\n",
    "            self.file_type = match.group('filetype')\n",
    "        else:\n",
    "            raise f\"Filename {self.fn} does not match the pattern!!\"\n",
    "\n",
    "    def listUpAttr(self):\n",
    "        if self.file_type[-1] == 'w':\n",
    "            # if file type is raw\n",
    "            self.list = np.array([self.sonde_name, self.sonde_number, self.date, self.time, 1, None,  None, None])\n",
    "        elif self.file_type[-1] == 'v':\n",
    "            # if file type is csv\n",
    "            self.list = np.array([self.sonde_name, self.sonde_number, self.date, self.time, None, 1, None, None])\n",
    "        else:\n",
    "            raise \"File type does not match 'raw' or 'csv'!!\"\n",
    "        return self.list\n",
    "\n",
    "    def getDate(self):\n",
    "        return self.date\n",
    "\n",
    "    def getTime(self):\n",
    "        return self.time\n",
    "\n",
    "    def getSondeName(self):\n",
    "        return self.sonde_name\n",
    "\n",
    "    def getSondeNumber(self):\n",
    "        return self.sonde_number\n",
    "\n",
    "    def getFileType(self):\n",
    "        return self.file_type\n",
    "\n"
   ]
  },
  {
   "cell_type": "code",
   "execution_count": 3,
   "metadata": {
    "pycharm": {
     "name": "#%%\n"
    }
   },
   "outputs": [],
   "source": [
    "# Define functions: list-out filenames, print all attributes\n",
    "def listOut_fn(path):\n",
    "    # TODO use os to retrieve list of files, and get individual elements\n",
    "    all_files = os.listdir(path)\n",
    "    return all_files\n",
    "\n",
    "def printAttr(file):\n",
    "    print(\"Date:\", file.getDate())\n",
    "    print(\"Time:\", file.getTime())\n",
    "    print(\"Sonde Name:\", file.getSondeName())\n",
    "    print(\"Sonde ID:\", file.getSondeNumber())\n",
    "    print(\"Filetype:\", file.getFileType())\n",
    "    return\n",
    "\n",
    "def readFilename(fn):\n",
    "    fileClass = filenameClass(fn)\n",
    "    fileClass.fn_parser()\n",
    "    list = fileClass.listUpAttr()\n",
    "    return fileClass,list\n",
    "\n",
    "def loopAndStack(fn_list):\n",
    "    fn0 = fn_list[0]\n",
    "    file, list_all = readFilename(fn0)\n",
    "    for fn in fn_list[1:]:\n",
    "        file, list = readFilename(fn)\n",
    "        # vertically stack all\n",
    "        list_all = np.vstack((list_all, list))\n",
    "    return list_all\n",
    "\n",
    "def mergeStackedList(list_all, col_names):\n",
    "    df = pd.DataFrame(list_all,columns=col_names)\n",
    "    # if sondeName, SondeNumber, startDate, startTime are same, sum up 'raw' & 'csv' columns\n",
    "    merged_df = df.groupby(['SondeName','SondeNumber','StartDate','StartTime']).agg(np.sum)\n",
    "    return merged_df\n"
   ]
  },
  {
   "cell_type": "code",
   "execution_count": 4,
   "outputs": [],
   "source": [
    "############## Configure data path of data below ################\n",
    "dt_path = \"../data/RINKO_Data/\"\n",
    "# test only year 2014\n",
    "year = '2014'\n",
    "#########################################################"
   ],
   "metadata": {
    "collapsed": false,
    "pycharm": {
     "name": "#%%\n"
    }
   }
  },
  {
   "cell_type": "code",
   "execution_count": 5,
   "outputs": [
    {
     "name": "stdout",
     "output_type": "stream",
     "text": [
      "['201403031502_ASTD102-ALC-R02_0254_150205.Csv', '201403031502_ASTD102-ALC-R02_0254_150205.raw', '201403170853_ASTD102-ALC-R02_0254_085318.Csv', '201403170853_ASTD102-ALC-R02_0254_085318.raw', '201403180814_ASTD102-ALC-R02_0254_081455.Csv', '201403180814_ASTD102-ALC-R02_0254_081455.raw', '201403250855_ASTD102-ALC-R02_0254_085522.Csv', '201403250855_ASTD102-ALC-R02_0254_085522.raw', '201403280925_ASTD102-ALC-R02_0254_092557.Csv', '201403280925_ASTD102-ALC-R02_0254_092557.raw']\n",
      "Length of list:  208\n"
     ]
    }
   ],
   "source": [
    "# Read and store all filenames\n",
    "RINKO_fn = listOut_fn(dt_path)\n",
    "filename_list = [fn for fn in RINKO_fn if fn[0:4]==year]\n",
    "# check fns\n",
    "print(filename_list[:10])\n",
    "print('Length of list: ', len(filename_list))"
   ],
   "metadata": {
    "collapsed": false,
    "pycharm": {
     "name": "#%%\n"
    }
   }
  },
  {
   "cell_type": "code",
   "execution_count": 6,
   "outputs": [
    {
     "name": "stdout",
     "output_type": "stream",
     "text": [
      "Date: 20140303\n",
      "Time: 1502\n",
      "Sonde Name: ASTD102-ALC-R02\n",
      "Sonde ID: 0254\n",
      "Filetype: Csv\n",
      "['ASTD102-ALC-R02' '0254' '20140303' '1502' None 1 None None]\n",
      "['0254' '20140303' '1502']\n"
     ]
    }
   ],
   "source": [
    "##############testing pattern: uncomment below ##################\n",
    "#filename = \"201403170853_ASTD102-ALC-R02_0254_085318.csv\"\n",
    "#filename = \"201403250855_ASTD102-ALC-R02_0254_085522.csv\"\n",
    "#filename = RINKO_fn[99]\n",
    "# TODO: '$' added to datetime, for some cases\n",
    "#########################################\n",
    "file, list = readFilename(fn=filename_list[0])\n",
    "# Check\n",
    "printAttr(file)\n",
    "print(list)\n",
    "print(list[1:4])"
   ],
   "metadata": {
    "collapsed": false,
    "pycharm": {
     "name": "#%%\n"
    }
   }
  },
  {
   "cell_type": "code",
   "execution_count": 7,
   "outputs": [
    {
     "name": "stdout",
     "output_type": "stream",
     "text": [
      "[['ASTD102-ALC-R02' '0254' '20140303' ... 1 None None]\n",
      " ['ASTD102-ALC-R02' '0254' '20140303' ... None None None]\n",
      " ['ASTD102-ALC-R02' '0254' '20140317' ... 1 None None]\n",
      " ...\n",
      " ['ASTD102-ALC-R02' '0254' '20141210' ... None None None]\n",
      " ['ASTD102-ALC-R02' '0254' '20141212' ... 1 None None]\n",
      " ['ASTD102-ALC-R02' '0254' '20141212' ... None None None]]\n"
     ]
    }
   ],
   "source": [
    "# Loop and stack all parsed file names\n",
    "results = loopAndStack(fn_list=filename_list)\n",
    "print(results)"
   ],
   "metadata": {
    "collapsed": false,
    "pycharm": {
     "name": "#%%\n"
    }
   }
  },
  {
   "cell_type": "code",
   "execution_count": 8,
   "outputs": [
    {
     "name": "stdout",
     "output_type": "stream",
     "text": [
      "                                                raw csv Latitude Longitude\n",
      "SondeName       SondeNumber StartDate StartTime                           \n",
      "ASTD102-ALC-R02 0254        20140303  1502        1   1  Unknown   Unknown\n",
      "                            20140317  0853        1   1  Unknown   Unknown\n",
      "                            20140318  0814        1   1  Unknown   Unknown\n",
      "                            20140325  0855        1   1  Unknown   Unknown\n",
      "                            20140328  0925        1   1  Unknown   Unknown\n",
      "...                                              ..  ..      ...       ...\n",
      "                            20141204  0748        1   1  Unknown   Unknown\n",
      "                            20141205  1115        1   1  Unknown   Unknown\n",
      "                            20141209  0859        1   1  Unknown   Unknown\n",
      "                            20141210  0926        1   1  Unknown   Unknown\n",
      "                            20141212  0900        1   1  Unknown   Unknown\n",
      "\n",
      "[104 rows x 4 columns]\n"
     ]
    }
   ],
   "source": [
    "# Merge stacked list and change to pd.DataFrame\n",
    "results_df = mergeStackedList(results,col_names=['SondeName','SondeNumber','StartDate','StartTime','raw','csv','Latitude','Longitude'])\n",
    "# Lat lon are unknown\n",
    "results_df.Latitude = 'Unknown'\n",
    "results_df.Longitude = 'Unknown'\n",
    "print(results_df)"
   ],
   "metadata": {
    "collapsed": false,
    "pycharm": {
     "name": "#%%\n"
    }
   }
  },
  {
   "cell_type": "code",
   "execution_count": 9,
   "outputs": [],
   "source": [
    "# save df to csv\n",
    "results_df.to_csv('CTD_2014.csv')"
   ],
   "metadata": {
    "collapsed": false,
    "pycharm": {
     "name": "#%%\n"
    }
   }
  },
  {
   "cell_type": "markdown",
   "source": [
    "End of code."
   ],
   "metadata": {
    "collapsed": false,
    "pycharm": {
     "name": "#%% md\n"
    }
   }
  }
 ],
 "metadata": {
  "kernelspec": {
   "display_name": "Python 3",
   "language": "python",
   "name": "python3"
  },
  "language_info": {
   "codemirror_mode": {
    "name": "ipython",
    "version": 3
   },
   "file_extension": ".py",
   "mimetype": "text/x-python",
   "name": "python",
   "nbconvert_exporter": "python",
   "pygments_lexer": "ipython3",
   "version": "3.7.6"
  }
 },
 "nbformat": 4,
 "nbformat_minor": 4
}