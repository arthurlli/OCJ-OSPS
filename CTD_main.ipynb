{
 "cells": [
  {
   "cell_type": "code",
   "execution_count": 1,
   "metadata": {
    "pycharm": {
     "name": "#%%\n"
    }
   },
   "outputs": [],
   "source": [
    "# Import libraries\n",
    "import numpy as np\n",
    "import pandas as pd\n",
    "import matplotlib.pyplot as plt\n",
    "import os\n",
    "import re\n",
    "from datetime import datetime"
   ]
  },
  {
   "cell_type": "code",
   "execution_count": 2,
   "metadata": {
    "pycharm": {
     "name": "#%%\n"
    }
   },
   "outputs": [],
   "source": [
    "# A class to store and parse filename \n",
    "class filenameClass:\n",
    "    def __init__(self, fn):\n",
    "        self.fn = fn\n",
    "        # TODO change pattern for different CTD folders: make it a variable\n",
    "        self.pattern = r'^(?P<date>\\d{8})(?P<time>\\d{4})_(?P<sonde_name>[A-Z\\d-]+)_(?P<sonde_number>\\d{4})_(?P<dummy>\\d{6})\\.(?P<filetype>[a-zA-Z]+)$'\n",
    "        return\n",
    "\n",
    "    def fn_parser(self):\n",
    "        # define regex for CTD RINKO data: date, time, sondeName, sondeNumber, dummy, fieltype\n",
    "        # match filename and pattern\n",
    "        match = re.match(self.pattern, self.fn)\n",
    "        if match:\n",
    "            #return match\n",
    "            self.date_org = match.group('date')\n",
    "            self.yyyy, self.mm, self.dd = self.date_org[0:4],self.date_org[4:6],self.date_org[6:]\n",
    "            # save another date formet\n",
    "            self.date = f\"{self.yyyy}-{self.mm}-{self.dd}\"\n",
    "            self.time_org = match.group('time')\n",
    "            # save another time format\n",
    "            self.hh, self.min = self.time_org[0:2], self.time_org[2:]\n",
    "            self.dummy = match.group('dummy')\n",
    "            self.ss = self.dummy[-2:]\n",
    "            self.time = f\"{self.hh}:{self.min}:{self.ss}\"\n",
    "\n",
    "            self.sonde_name = match.group('sonde_name')\n",
    "            self.sonde_number = match.group('sonde_number')\n",
    "            self.file_type = match.group('filetype')\n",
    "        else:\n",
    "            raise f\"Filename {self.fn} does not match the pattern!!\"\n",
    "\n",
    "    def listUpAttr(self, form=\"1\"):\n",
    "        # form \"1\" is numberic date time, \"2\" is usual date format\n",
    "        if self.file_type[-1] == 'w':\n",
    "            # if file type is raw\n",
    "            self.list = np.array([self.sonde_name, self.sonde_number, self.date_org if form==\"1\" else self.date,\n",
    "                                  self.time, 1,\n",
    "                                  None,  None, None])\n",
    "        elif self.file_type[-1] == 'v':\n",
    "            # if file type is csv\n",
    "            self.list = np.array([self.sonde_name, self.sonde_number, self.date_org if form==\"1\" else self.date,\n",
    "                                  self.time, None,\n",
    "                                  1, None, None])\n",
    "        else:\n",
    "            raise \"File type does not match 'raw' or 'csv'!!\"\n",
    "        return self.list\n",
    "\n",
    "    def getDate(self):\n",
    "        return self.date_org, \"or\", self.date\n",
    "\n",
    "    def getTime(self):\n",
    "        return self.time_org, \"or\", self.time\n",
    "\n",
    "    def getSondeName(self):\n",
    "        return self.sonde_name\n",
    "\n",
    "    def getSondeNumber(self):\n",
    "        return self.sonde_number\n",
    "\n",
    "    def getFileType(self):\n",
    "        return self.file_type\n",
    "\n"
   ]
  },
  {
   "cell_type": "code",
   "execution_count": 3,
   "metadata": {
    "pycharm": {
     "name": "#%%\n"
    }
   },
   "outputs": [],
   "source": [
    "# Define functions: list-out filenames, print all attributes\n",
    "def listOut_fn(path):\n",
    "    # use os to retrieve list of files, and get individual elements\n",
    "    all_files = os.listdir(path)\n",
    "    return all_files\n",
    "\n",
    "def printAttr(file):\n",
    "    print(\"Date:\", file.getDate())\n",
    "    print(\"Time:\", file.getTime())\n",
    "    print(\"Sonde Name:\", file.getSondeName())\n",
    "    print(\"Sonde ID:\", file.getSondeNumber())\n",
    "    print(\"Filetype:\", file.getFileType())\n",
    "    return\n",
    "\n",
    "def readFilename(fn, date_form=\"1\"):\n",
    "    # handle file name and parse it\n",
    "    fileClass = filenameClass(fn)\n",
    "    fileClass.fn_parser()\n",
    "    list = fileClass.listUpAttr(form=date_form)\n",
    "    return fileClass,list\n",
    "\n",
    "def loopAndStack(fn_list,date_form=\"1\"):\n",
    "    # loop over all fns and stack it into one numpy array\n",
    "    fn0 = fn_list[0]\n",
    "    file, list_all = readFilename(fn=fn0, date_form=date_form)\n",
    "    for fn in fn_list[1:]:\n",
    "        file, list = readFilename(fn=fn, date_form=date_form)\n",
    "        # vertically stack all\n",
    "        list_all = np.vstack((list_all, list))\n",
    "    return list_all\n",
    "\n",
    "def mergeStackedList(list_all, col_names):\n",
    "    # merge the array to check if it has csv and raw\n",
    "    df = pd.DataFrame(list_all,columns=col_names)\n",
    "    # if sondeName, SondeNumber, startDate, startTime are same, sum up 'raw' & 'csv' columns\n",
    "    merged_df = df.groupby(['SondeName','SondeNumber','StartDate','StartTime']).agg(np.sum)\n",
    "    return merged_df\n"
   ]
  },
  {
   "cell_type": "code",
   "execution_count": 4,
   "metadata": {
    "pycharm": {
     "name": "#%%\n"
    }
   },
   "outputs": [],
   "source": [
    "############## Configure data path of data below ################\n",
    "dt_path = \"../data/RINKO_Data/\"\n",
    "# config year below: single year or \"all\"\n",
    "year = '2014'\n",
    "year = \"all\"\n",
    "#########################################################"
   ]
  },
  {
   "cell_type": "code",
   "execution_count": 5,
   "metadata": {
    "pycharm": {
     "name": "#%%\n"
    }
   },
   "outputs": [
    {
     "name": "stdout",
     "output_type": "stream",
     "text": [
      "['201403031502_ASTD102-ALC-R02_0254_150205.Csv', '201403031502_ASTD102-ALC-R02_0254_150205.raw', '201403170853_ASTD102-ALC-R02_0254_085318.Csv', '201403170853_ASTD102-ALC-R02_0254_085318.raw', '201403180814_ASTD102-ALC-R02_0254_081455.Csv', '201403180814_ASTD102-ALC-R02_0254_081455.raw', '201403250855_ASTD102-ALC-R02_0254_085522.Csv', '201403250855_ASTD102-ALC-R02_0254_085522.raw', '201403280925_ASTD102-ALC-R02_0254_092557.Csv', '201403280925_ASTD102-ALC-R02_0254_092557.raw']\n",
      "Length of list:  5215\n"
     ]
    }
   ],
   "source": [
    "# Read and store all filenames\n",
    "RINKO_fn = listOut_fn(dt_path)\n",
    "if year != \"all\":\n",
    "    filename_list = [fn for fn in RINKO_fn if fn[0:4]==year]\n",
    "else:\n",
    "    # TODO what happened with $2019?\n",
    "    filename_list = [fn for fn in RINKO_fn if fn[0]!=\"$\"]\n",
    "# check fns\n",
    "print(filename_list[:10])\n",
    "print('Length of list: ', len(filename_list))"
   ]
  },
  {
   "cell_type": "code",
   "execution_count": 6,
   "metadata": {
    "pycharm": {
     "name": "#%%\n"
    }
   },
   "outputs": [
    {
     "name": "stdout",
     "output_type": "stream",
     "text": [
      "Checking a sample case to test the code:\n",
      "Date: ('20140303', 'or', '2014-03-03')\n",
      "Time: ('1502', 'or', '15:02:05')\n",
      "Sonde Name: ASTD102-ALC-R02\n",
      "Sonde ID: 0254\n",
      "Filetype: Csv\n",
      "The whole list is like:  ['ASTD102-ALC-R02' '0254' '2014-03-03' '15:02:05' None 1 None None]\n",
      "Some elements to check:  ['0254' '2014-03-03' '15:02:05']\n"
     ]
    }
   ],
   "source": [
    "##############testing pattern: uncomment below ##################\n",
    "#filename = \"201403170853_ASTD102-ALC-R02_0254_085318.csv\"\n",
    "#filename = \"201403250855_ASTD102-ALC-R02_0254_085522.csv\"\n",
    "#filename = RINKO_fn[99]\n",
    "# TODO: '$' added to datetime, for some cases\n",
    "#########################################\n",
    "print(\"Checking a sample case to test the code:\")\n",
    "file, list = readFilename(fn=filename_list[0], date_form=\"2\")\n",
    "# Check\n",
    "printAttr(file)\n",
    "print(\"The whole list is like: \", list)\n",
    "print(\"Some elements to check: \",list[1:4])"
   ]
  },
  {
   "cell_type": "code",
   "execution_count": 7,
   "metadata": {
    "pycharm": {
     "name": "#%%\n"
    }
   },
   "outputs": [
    {
     "name": "stdout",
     "output_type": "stream",
     "text": [
      "[['ASTD102-ALC-R02' '0254' '2014-03-03' ... 1 None None]\n",
      " ['ASTD102-ALC-R02' '0254' '2014-03-03' ... None None None]\n",
      " ['ASTD102-ALC-R02' '0254' '2014-03-17' ... 1 None None]\n",
      " ...\n",
      " ['ASTD102-ALC-R02' '0611' '2023-08-23' ... None None None]\n",
      " ['ASTD102-ALC-R02' '0611' '2023-08-24' ... 1 None None]\n",
      " ['ASTD102-ALC-R02' '0611' '2023-08-24' ... None None None]]\n"
     ]
    }
   ],
   "source": [
    "# Loop and stack all parsed file names\n",
    "results = loopAndStack(fn_list=filename_list, date_form=\"2\")\n",
    "print(results)"
   ]
  },
  {
   "cell_type": "code",
   "execution_count": 8,
   "metadata": {
    "pycharm": {
     "name": "#%%\n"
    }
   },
   "outputs": [
    {
     "name": "stdout",
     "output_type": "stream",
     "text": [
      "Note that the DF below is sorted by SondeNumber!\n",
      "                                                 raw csv Latitude Longitude\n",
      "SondeName       SondeNumber StartDate  StartTime                           \n",
      "ASTD102-ALC-R02 0143        2016-03-30 09:28:09    1   1  Unknown   Unknown\n",
      "                                       09:31:12    1   1  Unknown   Unknown\n",
      "                                       09:36:36    1   1  Unknown   Unknown\n",
      "                            2016-06-21 08:47:12    1   1  Unknown   Unknown\n",
      "                            2016-11-21 09:00:52    1   1  Unknown   Unknown\n",
      "...                                               ..  ..      ...       ...\n",
      "                0611        2023-08-23 08:03:25    1   1  Unknown   Unknown\n",
      "                                       08:34:39    1   1  Unknown   Unknown\n",
      "                                       08:44:54    1   1  Unknown   Unknown\n",
      "                                       08:56:21    1   1  Unknown   Unknown\n",
      "                            2023-08-24 07:52:48    1   1  Unknown   Unknown\n",
      "\n",
      "[2608 rows x 4 columns]\n"
     ]
    }
   ],
   "source": [
    "# Merge stacked list and change to pd.DataFrame\n",
    "print(\"Note that the DF below is sorted by SondeNumber!\")\n",
    "results_df = mergeStackedList(results,col_names=['SondeName','SondeNumber','StartDate','StartTime','raw','csv','Latitude','Longitude'])\n",
    "# Lat lon are unknown\n",
    "results_df.Latitude = 'Unknown'\n",
    "results_df.Longitude = 'Unknown'\n",
    "print(results_df)"
   ]
  },
  {
   "cell_type": "code",
   "execution_count": 9,
   "metadata": {
    "pycharm": {
     "name": "#%%\n"
    }
   },
   "outputs": [
    {
     "name": "stdout",
     "output_type": "stream",
     "text": [
      "Numer of files:  5215\n",
      "Length of DF:  2608\n",
      "                                                 raw csv Latitude Longitude\n",
      "SondeName       SondeNumber StartDate  StartTime                           \n",
      "ASTD102-ALC-R02 0254        2018-07-19 09:45:19    1   0  Unknown   Unknown\n"
     ]
    }
   ],
   "source": [
    "print(\"Numer of files: \", len(filename_list))\n",
    "print(\"Length of DF: \", results_df.shape[0])\n",
    "# check if some rows has no raw or csv file, if yes, print it out.\n",
    "print(results_df[(results_df['raw']==0) | (results_df['csv']==0)])"
   ]
  },
  {
   "cell_type": "code",
   "execution_count": 10,
   "metadata": {
    "pycharm": {
     "name": "#%%\n"
    }
   },
   "outputs": [],
   "source": [
    "# save df to csv\n",
    "results_df.to_csv(f'CTD_{year}.csv')"
   ]
  },
  {
   "cell_type": "markdown",
   "metadata": {
    "pycharm": {
     "name": "#%% md\n"
    }
   },
   "source": [
    "End of code."
   ]
  }
 ],
 "metadata": {
  "kernelspec": {
   "display_name": "Python 3",
   "language": "python",
   "name": "python3"
  },
  "language_info": {
   "codemirror_mode": {
    "name": "ipython",
    "version": 3
   },
   "file_extension": ".py",
   "mimetype": "text/x-python",
   "name": "python",
   "nbconvert_exporter": "python",
   "pygments_lexer": "ipython3",
   "version": "3.7.6"
  }
 },
 "nbformat": 4,
 "nbformat_minor": 4
}
