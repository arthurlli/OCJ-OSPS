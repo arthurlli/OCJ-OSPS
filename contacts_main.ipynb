{
 "cells": [
  {
   "cell_type": "markdown",
   "metadata": {
    "pycharm": {
     "name": "#%% md\n"
    }
   },
   "source": [
    "This file is to compile all (at least some) excels of 共同利用研究者連絡先（公募利用）and merge all contacts into one list.\n",
    "# TODO list\n",
    "- read H25,H26 and merge to list"
   ]
  },
  {
   "cell_type": "code",
   "execution_count": 13,
   "metadata": {
    "pycharm": {
     "name": "#%%\n"
    }
   },
   "outputs": [],
   "source": [
    "import numpy as np\n",
    "import pandas as pd\n",
    "import os"
   ]
  },
  {
   "cell_type": "code",
   "execution_count": 14,
   "metadata": {
    "pycharm": {
     "name": "#%%\n"
    }
   },
   "outputs": [],
   "source": [
    "# configurations\n",
    "path = \"../data/共同利用研究者連絡先（公募利用）\"\n",
    "skip = 2"
   ]
  },
  {
   "cell_type": "code",
   "execution_count": 15,
   "metadata": {
    "pycharm": {
     "name": "#%%\n"
    }
   },
   "outputs": [
    {
     "name": "stdout",
     "output_type": "stream",
     "text": [
      "['H26年度（大槌地区）.xlsx', 'H27 大槌・外来.xlsx', 'H28 大槌・外来.xlsx', 'H29 大槌・外来.xlsx', 'H30 大槌・外来.xlsx', 'R1大槌・外来.xlsx', 'R2 大槌・外来.xlsx', 'R3 大槌・外来.xlsx', 'R4 大槌・外来.xlsx', 'R5 大槌・外来.xlsx', 'Ｈ25年度（大槌地区）.xlsx']\n",
      "['H27 大槌・外来.xlsx', 'H28 大槌・外来.xlsx', 'H29 大槌・外来.xlsx', 'H30 大槌・外来.xlsx', 'R1大槌・外来.xlsx', 'R2 大槌・外来.xlsx', 'R3 大槌・外来.xlsx', 'R4 大槌・外来.xlsx', 'R5 大槌・外来.xlsx']\n"
     ]
    }
   ],
   "source": [
    "file_list = os.listdir(path=path)\n",
    "print(file_list)\n",
    "# choose only 2 to -2\n",
    "file_list = file_list[1:-1]\n",
    "print(file_list)"
   ]
  },
  {
   "cell_type": "code",
   "execution_count": 16,
   "metadata": {
    "pycharm": {
     "name": "#%%\n"
    }
   },
   "outputs": [],
   "source": [
    "class fileClass:\n",
    "    def __init__(self,path,fn):\n",
    "        self.path = path\n",
    "        self.fn = fn\n",
    "        return\n",
    "\n",
    "    def readFile(self, skiprows):\n",
    "        self.dt = pd.read_excel(f\"{self.path}/{self.fn}\", skiprows=skiprows)\n",
    "        # remove FULL CHARACTER space in the column names\n",
    "        self.dt.columns = self.dt.columns.str.replace(\"　\", \"\")\n",
    "        return self.dt\n",
    "\n",
    "    def selectData(self, cols):\n",
    "        self.dt_select = self.dt[cols]\n",
    "        for i,col in enumerate(cols):\n",
    "            ## remove \\n and space in affliation\n",
    "            self.dt_select.iloc[:,i] = self.dt_select[col].str.replace(\"　\", \"\")\n",
    "            self.dt_select.iloc[:,i] = self.dt_select[col].str.replace(\" \", \"\")\n",
    "            self.dt_select.iloc[:,i] = self.dt_select[col].str.replace(\"\\n\", \"・\")\n",
    "        return self.dt_select\n",
    "\n",
    "\n",
    "def loopAndStack(path, fn_list, skiprows, cols):\n",
    "    # a function to stack all infomation (with redundence)\n",
    "    fn0 = fn_list[0]\n",
    "    file = fileClass(path=path,fn=fn0)\n",
    "    file.readFile(skiprows=skiprows)\n",
    "    list_all = file.selectData(cols=cols)\n",
    "    for fn in fn_list[1:]:\n",
    "        file = fileClass(path=path,fn=fn)\n",
    "        file.readFile(skiprows=skiprows)\n",
    "        list = file.selectData(cols=cols)\n",
    "        # stack all\n",
    "        list_all = np.vstack((list_all,list))\n",
    "    return list_all\n",
    "\n",
    "def removeRedundent(list_all):\n",
    "    # a function to remove redundent names\n",
    "    new_list = list_all[0:2,:]\n",
    "    na = 0\n",
    "    redun = 0\n",
    "    # then loop every row to check if name exist\n",
    "    for i,row in enumerate(list_all[1:,:]):\n",
    "        if row[0] in new_list[:,0]:\n",
    "            # if name already exist, pass\n",
    "            redun += 1\n",
    "            pass\n",
    "        else:\n",
    "            new_list = np.vstack((new_list,row))\n",
    "    print(f\"Org: {len(list_all)}; After: {len(new_list)}\")\n",
    "    print(f\"Redundency: {redun}\")\n",
    "    return new_list\n"
   ]
  },
  {
   "cell_type": "code",
   "execution_count": 17,
   "metadata": {
    "pycharm": {
     "name": "#%%\n"
    }
   },
   "outputs": [
    {
     "name": "stdout",
     "output_type": "stream",
     "text": [
      "testing one case\n",
      "['H27 大槌・外来.xlsx', 'H28 大槌・外来.xlsx', 'H29 大槌・外来.xlsx', 'H30 大槌・外来.xlsx', 'R1大槌・外来.xlsx', 'R2 大槌・外来.xlsx', 'R3 大槌・外来.xlsx', 'R4 大槌・外来.xlsx', 'R5 大槌・外来.xlsx']\n",
      "H27 大槌・外来.xlsx\n"
     ]
    },
    {
     "name": "stderr",
     "output_type": "stream",
     "text": [
      "c:\\Users\\Arthurli\\anaconda3\\lib\\site-packages\\pandas\\core\\indexing.py:1783: SettingWithCopyWarning: \n",
      "A value is trying to be set on a copy of a slice from a DataFrame.\n",
      "Try using .loc[row_indexer,col_indexer] = value instead\n",
      "\n",
      "See the caveats in the documentation: https://pandas.pydata.org/pandas-docs/stable/user_guide/indexing.html#returning-a-view-versus-a-copy\n",
      "  self.obj[item_labels[indexer[info_axis]]] = value\n"
     ]
    }
   ],
   "source": [
    "# Testing with one file\n",
    "print(\"testing one case\")\n",
    "fn0 = file_list[0]\n",
    "print(file_list)\n",
    "print(fn0)\n",
    "file = fileClass(path=path,fn=fn0)\n",
    "file.readFile(skiprows=skip)\n",
    "results = file.selectData(cols=['氏名','所属','職名', 'メールアドレス'])\n",
    "#print(results)"
   ]
  },
  {
   "cell_type": "code",
   "execution_count": 18,
   "metadata": {
    "pycharm": {
     "name": "#%%\n"
    }
   },
   "outputs": [
    {
     "name": "stdout",
     "output_type": "stream",
     "text": [
      "Show full list (redundant): \n"
     ]
    }
   ],
   "source": [
    "# read and save all: some names are repeated\n",
    "colname = ['氏名','所属','職名', 'メールアドレス']\n",
    "results = loopAndStack(path=path, fn_list=file_list, skiprows=skip, cols=colname)\n",
    "print(\"Show full list (redundant): \")\n",
    "contact_list_redun = pd.DataFrame(results, columns=colname)\n",
    "contact_list_redun = contact_list_redun.dropna()\n",
    "fn = 'contact_list_redun.xlsx'\n",
    "contact_list_redun.to_excel(fn)\n",
    "#########################################\n",
    "#print(contact_list_redun)"
   ]
  },
  {
   "cell_type": "code",
   "execution_count": 19,
   "metadata": {
    "pycharm": {
     "name": "#%%\n"
    }
   },
   "outputs": [
    {
     "name": "stdout",
     "output_type": "stream",
     "text": [
      "Org: 303; After: 88\n",
      "Redundency: 216\n",
      "Show new list (clean): \n"
     ]
    }
   ],
   "source": [
    "# to remove redundency\n",
    "contact_list = removeRedundent(results)\n",
    "print(\"Show new list (clean): \")\n",
    "contact_list = pd.DataFrame(contact_list,columns=colname)\n",
    "contact_list = contact_list.dropna()\n",
    "######################################\n",
    "#print(contact_list)"
   ]
  },
  {
   "cell_type": "code",
   "execution_count": 20,
   "metadata": {
    "pycharm": {
     "name": "#%%\n"
    }
   },
   "outputs": [],
   "source": [
    "# save the contact list\n",
    "contact_list.to_excel('contact_list.xlsx')"
   ]
  },
  {
   "cell_type": "markdown",
   "metadata": {},
   "source": [
    "Then, assign email address "
   ]
  },
  {
   "cell_type": "code",
   "execution_count": 21,
   "metadata": {},
   "outputs": [],
   "source": [
    "def checkAndAssign(df, contact_list,checking_by='氏名'):\n",
    "    # a loop function that checks name and assign email\n",
    "    for i,name in enumerate(df['PI-name']):\n",
    "        if name in np.array(contact_list.iloc[:,0]):\n",
    "            # assign email address: at col 7\n",
    "            df.iloc[i,7] = str(np.array(contact_list[np.array(contact_list[checking_by])==name])[0][-1])\n",
    "        else:\n",
    "            #print(f\"{name} not in list.\")\n",
    "            pass\n",
    "    return df"
   ]
  },
  {
   "cell_type": "code",
   "execution_count": 22,
   "metadata": {
    "pycharm": {
     "name": "#%%\n"
    }
   },
   "outputs": [
    {
     "name": "stdout",
     "output_type": "stream",
     "text": [
      "Index(['yyyy/mm/dd', 'Ship-name', 'PI-name', 'Pl-affiliation', 'PI-position',\n",
      "       'Instruments', 'CTD (0/1)', 'PI-email', 'Unnamed: 8', 'Ship-name list'],\n",
      "      dtype='object')\n"
     ]
    }
   ],
   "source": [
    "# specify file to read, and check its column names\n",
    "obs_fn = \"ObservationLog_daily.xlsx\"\n",
    "df = pd.read_excel(obs_fn)\n",
    "print(df.columns)"
   ]
  },
  {
   "cell_type": "code",
   "execution_count": 23,
   "metadata": {},
   "outputs": [],
   "source": [
    "# assign email address to new df\n",
    "new_df = checkAndAssign(df,contact_list)"
   ]
  },
  {
   "cell_type": "code",
   "execution_count": 24,
   "metadata": {},
   "outputs": [],
   "source": [
    "# save as temporary excel file\n",
    "new_df.to_excel('tmp.xlsx')"
   ]
  },
  {
   "cell_type": "markdown",
   "metadata": {},
   "source": [
    "End of file"
   ]
  }
 ],
 "metadata": {
  "kernelspec": {
   "display_name": "Python 3",
   "language": "python",
   "name": "python3"
  },
  "language_info": {
   "codemirror_mode": {
    "name": "ipython",
    "version": 3
   },
   "file_extension": ".py",
   "mimetype": "text/x-python",
   "name": "python",
   "nbconvert_exporter": "python",
   "pygments_lexer": "ipython3",
   "version": "3.7.6"
  }
 },
 "nbformat": 4,
 "nbformat_minor": 1
}
