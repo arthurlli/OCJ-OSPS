{
 "cells": [
  {
   "cell_type": "markdown",
   "metadata": {
    "pycharm": {
     "name": "#%% md\n"
    }
   },
   "source": [
    "This file is to compile all (at least some) excels of 共同利用研究者連絡先（公募利用）and merge all contacts into one list.\n",
    "Arthur Li, 2023\n",
    "# TODO list\n",
    "- read H25,H26 and merge to list"
   ]
  },
  {
   "cell_type": "raw",
   "metadata": {},
   "source": [
    "# How to use this program?\n",
    "Function 1: make a contact list from 共同利用研究者連絡先（公募利用）\n",
    "    - Input:\n",
    "        - old format (before H27): 'H26年度（大槌地区）.xlsx'\n",
    "        - new format (after H27): 'H27 大槌・外来.xlsx'\n",
    "    - Output:\n",
    "        - \"contact.xlsx\": a contact list consisting all listed names, affiliation, email address\n",
    "        \n",
    "Function 2: assign emails from the contact list to observation log\n",
    "    - Input: \n",
    "        - \"ObservationLog_daily.xlsx\": observation log listing who used the instrument\n",
    "        - \"contact.xlsx\": as above\n",
    "    - Output:\n",
    "        - \"tmp.xlsx\": an updated temporary xlsx file, for update observation log on drive"
   ]
  },
  {
   "cell_type": "code",
   "execution_count": 1,
   "metadata": {
    "pycharm": {
     "name": "#%%\n"
    }
   },
   "outputs": [],
   "source": [
    "import numpy as np\n",
    "import pandas as pd\n",
    "import os"
   ]
  },
  {
   "cell_type": "code",
   "execution_count": 2,
   "metadata": {
    "pycharm": {
     "name": "#%%\n"
    }
   },
   "outputs": [],
   "source": [
    "# configurations\n",
    "path = \"../data/共同利用研究者連絡先（公募利用）\"\n",
    "# skipping 3 rows for H25,26 (old format)\n",
    "skip_H26 = 3\n",
    "# skipping 2 rows for new format\n",
    "skip = 2\n",
    "# config columns to use\n",
    "cols = ['氏名','所属','職名', 'メールアドレス']"
   ]
  },
  {
   "cell_type": "code",
   "execution_count": 3,
   "metadata": {
    "pycharm": {
     "name": "#%%\n"
    }
   },
   "outputs": [],
   "source": [
    "class fileClass:\n",
    "    def __init__(self,path,fn):\n",
    "        self.path = path\n",
    "        self.fn = fn\n",
    "        return\n",
    "\n",
    "    def readFile(self, skiprows):\n",
    "        self.dt = pd.read_excel(f\"{self.path}/{self.fn}\", skiprows=skiprows)\n",
    "        # remove FULL CHARACTER space in the column names\n",
    "        self.dt.columns = self.dt.columns.str.replace(\"　\", \"\")\n",
    "        return self.dt\n",
    "\n",
    "    def selectData(self, cols):\n",
    "        self.dt_select = self.dt[cols]\n",
    "        for i,col in enumerate(cols):\n",
    "            ## remove \\n and space in affliation\n",
    "            self.dt_select.iloc[:,i] = self.dt_select[col].str.replace(\"　\", \"\")\n",
    "            self.dt_select.iloc[:,i] = self.dt_select[col].str.replace(\" \", \"\")\n",
    "            self.dt_select.iloc[:,i] = self.dt_select[col].str.replace(\"\\n\", \"・\")\n",
    "        return self.dt_select\n",
    "    \n",
    "    def printAll(self):\n",
    "        print(self.dt)\n",
    "        return\n",
    "    \n",
    "    def printCols(self):\n",
    "        print(self.dt.columns)\n",
    "        return\n",
    "\n",
    "\n",
    "def loopAndStack(path, fn_list_new, fn_list_old, skiprows, cols):\n",
    "    def LASOldNew(path, fn_list, skiprows, cols, status):\n",
    "        # config old and new skips\n",
    "        skip_old, skip_new = skiprows\n",
    "        # initialize first file and list_all\n",
    "        fn0 = fn_list[0]\n",
    "        file = fileClass(path=path,fn=fn0)   \n",
    "        file.readFile(skiprows=skip_new if status=='new' else skip_old)\n",
    "        list_all = file.selectData(cols=cols)\n",
    "        for fn in fn_list[1:]:\n",
    "            print(fn)\n",
    "            # loop over all files and select data\n",
    "            file = fileClass(path=path,fn=fn)\n",
    "            file.readFile(skiprows=skip_new if status=='new' else skip_old)\n",
    "            # if H25: not email address but Unnamed: 10\n",
    "            if fn[1:3]=='25':\n",
    "                list_toup = file.selectData(cols=np.append(cols[:-1],'Unnamed: 10'))\n",
    "            else:\n",
    "                list_toup = file.selectData(cols=cols)\n",
    "            # stack all: note that they are redundant now\n",
    "            list_all = np.vstack((list_all,list_toup))\n",
    "        return list_all\n",
    "    # a function to stack all infomation (with redundence)\n",
    "    old = LASOldNew(path=path, fn_list=fn_list_old, skiprows=skiprows, cols=cols, status='old')\n",
    "    new = LASOldNew(path=path, fn_list=fn_list_new, skiprows=skiprows, cols=cols, status='new')\n",
    "    # stack both\n",
    "    list_all = np.vstack((old,new))\n",
    "    return list_all\n",
    "\n",
    "def removeRedundent(list_all):\n",
    "    # a function to remove redundent names\n",
    "    new_list = list_all[0:2,:]\n",
    "    na = 0\n",
    "    redun = 0\n",
    "    # then loop every row to check if name exist\n",
    "    for i,row in enumerate(list_all[1:,:]):\n",
    "        if row[0] in new_list[:,0]:\n",
    "            # if name already exist, pass\n",
    "            redun += 1\n",
    "            pass\n",
    "        else:\n",
    "            new_list = np.vstack((new_list,row))\n",
    "    # show info of removed redundency\n",
    "    print(f\"Org: {len(list_all)}; After: {len(new_list)}\")\n",
    "    print(f\"Redundency: {redun}\")\n",
    "    return new_list\n",
    "\n",
    "# a function return old and new list\n",
    "def selectOldNew(file_list):\n",
    "    old = []\n",
    "    new = []\n",
    "    for fn in file_list:\n",
    "        # in all files, if it is < H26\n",
    "        if fn[0]=='H' and int(fn[1:3]) <= 26:\n",
    "            old = np.append(old,fn)\n",
    "        elif  (fn[0]=='Ｈ' or fn[0]=='R') or int(fn[1:3]) > 26:\n",
    "            new = np.append(new,fn)\n",
    "    return old,new"
   ]
  },
  {
   "cell_type": "code",
   "execution_count": 4,
   "metadata": {
    "scrolled": true
   },
   "outputs": [
    {
     "name": "stdout",
     "output_type": "stream",
     "text": [
      "['H26年度（大槌地区）.xlsx', 'H27 大槌・外来.xlsx', 'H28 大槌・外来.xlsx', 'H29 大槌・外来.xlsx', 'H30 大槌・外来.xlsx', 'R1大槌・外来.xlsx', 'R2 大槌・外来.xlsx', 'R3 大槌・外来.xlsx', 'R4 大槌・外来.xlsx', 'R5 大槌・外来.xlsx', 'Ｈ25年度（大槌地区）.xlsx']\n",
      "Old: ['H26年度（大槌地区）.xlsx']\n",
      "New: ['H27 大槌・外来.xlsx' 'H28 大槌・外来.xlsx' 'H29 大槌・外来.xlsx' 'H30 大槌・外来.xlsx'\n",
      " 'R1大槌・外来.xlsx' 'R2 大槌・外来.xlsx' 'R3 大槌・外来.xlsx' 'R4 大槌・外来.xlsx'\n",
      " 'R5 大槌・外来.xlsx' 'Ｈ25年度（大槌地区）.xlsx']\n"
     ]
    }
   ],
   "source": [
    "# reading all filenames\n",
    "file_list = os.listdir(path=path)\n",
    "print(file_list)\n",
    "old_file_list,new_file_list = selectOldNew(file_list)\n",
    "print(f\"Old: {old_file_list}\")\n",
    "print(f\"New: {new_file_list}\")"
   ]
  },
  {
   "cell_type": "code",
   "execution_count": 5,
   "metadata": {
    "pycharm": {
     "name": "#%%\n"
    }
   },
   "outputs": [
    {
     "name": "stdout",
     "output_type": "stream",
     "text": [
      "testing one case\n",
      "['H27 大槌・外来.xlsx' 'H28 大槌・外来.xlsx' 'H29 大槌・外来.xlsx' 'H30 大槌・外来.xlsx'\n",
      " 'R1大槌・外来.xlsx' 'R2 大槌・外来.xlsx' 'R3 大槌・外来.xlsx' 'R4 大槌・外来.xlsx'\n",
      " 'R5 大槌・外来.xlsx' 'Ｈ25年度（大槌地区）.xlsx']\n",
      "H27 大槌・外来.xlsx\n"
     ]
    },
    {
     "name": "stderr",
     "output_type": "stream",
     "text": [
      "C:\\Users\\Arthurli\\anaconda3\\lib\\site-packages\\pandas\\core\\indexing.py:1783: SettingWithCopyWarning: \n",
      "A value is trying to be set on a copy of a slice from a DataFrame.\n",
      "Try using .loc[row_indexer,col_indexer] = value instead\n",
      "\n",
      "See the caveats in the documentation: https://pandas.pydata.org/pandas-docs/stable/user_guide/indexing.html#returning-a-view-versus-a-copy\n",
      "  self.obj[item_labels[indexer[info_axis]]] = value\n"
     ]
    }
   ],
   "source": [
    "# Testing with one file: new format\n",
    "print(\"testing one case\")\n",
    "fn0 = new_file_list[0]\n",
    "print(new_file_list)\n",
    "print(fn0)\n",
    "file = fileClass(path=path,fn=fn0)\n",
    "file.readFile(skiprows=skip)\n",
    "results = file.selectData(cols=cols)\n",
    "############################################\n",
    "#print(results)"
   ]
  },
  {
   "cell_type": "code",
   "execution_count": 6,
   "metadata": {},
   "outputs": [
    {
     "name": "stdout",
     "output_type": "stream",
     "text": [
      "testing one case\n",
      "['H27 大槌・外来.xlsx' 'H28 大槌・外来.xlsx' 'H29 大槌・外来.xlsx' 'H30 大槌・外来.xlsx'\n",
      " 'R1大槌・外来.xlsx' 'R2 大槌・外来.xlsx' 'R3 大槌・外来.xlsx' 'R4 大槌・外来.xlsx'\n",
      " 'R5 大槌・外来.xlsx' 'Ｈ25年度（大槌地区）.xlsx']\n",
      "Ｈ25年度（大槌地区）.xlsx\n",
      "Index(['No.', '受付番号', '所属', '職名', '氏名', '研究題目', '利用日程', '利用予定者数', 'センター担当者',\n",
      "       'Unnamed: 9', 'Unnamed: 10'],\n",
      "      dtype='object')\n"
     ]
    }
   ],
   "source": [
    "# Testing with one file: check H25\n",
    "print(\"testing one case\")\n",
    "fn0 = new_file_list[-1]\n",
    "print(new_file_list)\n",
    "print(fn0)\n",
    "file = fileClass(path=path,fn=fn0)\n",
    "file.readFile(skiprows=skip)\n",
    "#file.printAll()\n",
    "file.printCols()\n",
    "results = file.selectData(cols=np.append(cols[:-1],'Unnamed: 10'))\n",
    "############################################\n",
    "#print(results)"
   ]
  },
  {
   "cell_type": "code",
   "execution_count": 7,
   "metadata": {
    "pycharm": {
     "name": "#%%\n"
    }
   },
   "outputs": [
    {
     "name": "stdout",
     "output_type": "stream",
     "text": [
      "H28 大槌・外来.xlsx\n",
      "H29 大槌・外来.xlsx\n",
      "H30 大槌・外来.xlsx\n",
      "R1大槌・外来.xlsx\n",
      "R2 大槌・外来.xlsx\n",
      "R3 大槌・外来.xlsx\n",
      "R4 大槌・外来.xlsx\n",
      "R5 大槌・外来.xlsx\n",
      "Ｈ25年度（大槌地区）.xlsx\n",
      "Show full list (redundant): \n"
     ]
    }
   ],
   "source": [
    "# read and save all: some names are repeated\n",
    "results = loopAndStack(path=path, fn_list_new=new_file_list, fn_list_old=old_file_list,skiprows=(skip_H26,skip), cols=cols)\n",
    "print(\"Show full list (redundant): \")\n",
    "contact_list_redun = pd.DataFrame(results, columns=cols)\n",
    "contact_list_redun = contact_list_redun.dropna()\n",
    "fn = 'contact_list_redun.xlsx'\n",
    "contact_list_redun.to_excel(fn)\n",
    "#########################################\n",
    "#print(contact_list_redun)"
   ]
  },
  {
   "cell_type": "code",
   "execution_count": 8,
   "metadata": {
    "pycharm": {
     "name": "#%%\n"
    }
   },
   "outputs": [
    {
     "name": "stdout",
     "output_type": "stream",
     "text": [
      "Org: 390; After: 115\n",
      "Redundency: 276\n",
      "Show new list (clean): \n"
     ]
    }
   ],
   "source": [
    "# to remove redundency\n",
    "contact_list = removeRedundent(results)\n",
    "print(\"Show new list (clean): \")\n",
    "contact_list = pd.DataFrame(contact_list,columns=cols)\n",
    "contact_list = contact_list.dropna()\n",
    "######################################\n",
    "#print(contact_list)"
   ]
  },
  {
   "cell_type": "code",
   "execution_count": 9,
   "metadata": {
    "pycharm": {
     "name": "#%%\n"
    }
   },
   "outputs": [],
   "source": [
    "# save the contact list\n",
    "contact_list.to_excel('contact_list.xlsx')"
   ]
  },
  {
   "cell_type": "markdown",
   "metadata": {},
   "source": [
    "# Then, assign email address "
   ]
  },
  {
   "cell_type": "code",
   "execution_count": 10,
   "metadata": {},
   "outputs": [],
   "source": [
    "def checkAndAssign(df, contact_list,checking_by='氏名'):\n",
    "    # a loop function that checks name and assign email\n",
    "    no_name = []\n",
    "    for i,name in enumerate(df['PI-name']):\n",
    "        if name in np.array(contact_list.iloc[:,0]):\n",
    "            # assign email address: at col 7\n",
    "            df.iloc[i,7] = str(np.array(contact_list[np.array(contact_list[checking_by])==name])[0][-1])\n",
    "        elif name not in no_name:\n",
    "            # if name not recorded, put into no_name list\n",
    "            no_name = np.append(no_name,name)\n",
    "        else:\n",
    "            continue\n",
    "    return df, no_name"
   ]
  },
  {
   "cell_type": "code",
   "execution_count": 11,
   "metadata": {
    "pycharm": {
     "name": "#%%\n"
    }
   },
   "outputs": [
    {
     "name": "stdout",
     "output_type": "stream",
     "text": [
      "Index(['yyyy/mm/dd', 'Ship-name', 'PI-name', 'Pl-affiliation', 'PI-position',\n",
      "       'Instruments', 'CTD (0/1)', 'PI-email', 'Unnamed: 8', 'Ship-name list'],\n",
      "      dtype='object')\n",
      "Index(['Unnamed: 0', '氏名', '所属', '職名', 'メールアドレス'], dtype='object')\n"
     ]
    }
   ],
   "source": [
    "# specify file to read, and check its column names\n",
    "obs_fn = \"ObservationLog_daily.xlsx\"\n",
    "df = pd.read_excel(obs_fn)\n",
    "print(df.columns)\n",
    "contact_fn = \"contact_list.xlsx\"\n",
    "contact_list = pd.read_excel(contact_fn)\n",
    "print(contact_list.columns)"
   ]
  },
  {
   "cell_type": "code",
   "execution_count": 12,
   "metadata": {},
   "outputs": [
    {
     "name": "stderr",
     "output_type": "stream",
     "text": [
      "C:\\Users\\Arthurli\\anaconda3\\lib\\site-packages\\ipykernel_launcher.py:5: FutureWarning: elementwise comparison failed; returning scalar instead, but in the future will perform elementwise comparison\n",
      "  \"\"\"\n"
     ]
    }
   ],
   "source": [
    "# assign email address to new df\n",
    "new_df,no_exist_name = checkAndAssign(df,contact_list)\n",
    "####################################################\n",
    "#print(new_df)\n",
    "#print(no_exist_name)"
   ]
  },
  {
   "cell_type": "code",
   "execution_count": 13,
   "metadata": {},
   "outputs": [],
   "source": [
    "# save as temporary excel file -> copy and update on drive\n",
    "new_df.to_excel('tmp.xlsx')"
   ]
  },
  {
   "cell_type": "markdown",
   "metadata": {},
   "source": [
    "End of file"
   ]
  }
 ],
 "metadata": {
  "kernelspec": {
   "display_name": "Python 3",
   "language": "python",
   "name": "python3"
  },
  "language_info": {
   "codemirror_mode": {
    "name": "ipython",
    "version": 3
   },
   "file_extension": ".py",
   "mimetype": "text/x-python",
   "name": "python",
   "nbconvert_exporter": "python",
   "pygments_lexer": "ipython3",
   "version": "3.7.6"
  }
 },
 "nbformat": 4,
 "nbformat_minor": 1
}
