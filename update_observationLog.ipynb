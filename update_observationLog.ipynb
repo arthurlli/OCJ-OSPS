{
 "cells": [
  {
   "cell_type": "markdown",
   "metadata": {},
   "source": [
    "# A function to update ObservationLog"
   ]
  },
  {
   "cell_type": "raw",
   "metadata": {},
   "source": [
    "Function: assign emails from the contact list to observation log\n",
    "    - Input: \n",
    "        - \"ObservationLog_daily.xlsx\": observation log listing who used the instrument\n",
    "        - \"contact.xlsx\": as above\n",
    "    - Output:\n",
    "        - \"tmp.xlsx\": an updated temporary xlsx file, for update observation log on drive"
   ]
  },
  {
   "cell_type": "code",
   "execution_count": 1,
   "metadata": {},
   "outputs": [],
   "source": [
    "import numpy as np\n",
    "import pandas as pd\n",
    "import os"
   ]
  },
  {
   "cell_type": "code",
   "execution_count": 2,
   "metadata": {},
   "outputs": [],
   "source": [
    "def checkAndAssign(df, contact_list,checking_by='氏名'):\n",
    "    # a loop function that checks name and assign email\n",
    "    no_name = []\n",
    "    for i,name in enumerate(df['PI-name']):\n",
    "        if (name in np.array(contact_list.iloc[:,0])) or (name in np.array(contact_list.iloc[:,1])):\n",
    "            # assign email address: at col 7\n",
    "            df.iloc[i,7] = str(np.array(contact_list[np.array(contact_list[checking_by])==name])[0][-1])\n",
    "        elif name not in no_name:\n",
    "            # if name not recorded, put into no_name list\n",
    "            no_name = np.append(no_name,name)\n",
    "        else:\n",
    "            continue\n",
    "    return df, no_name\n",
    "\n",
    "def createNoNameDF(no_name_list):\n",
    "    # make a matrix with no names\n",
    "    #dt = np.column_stack((no_name_list,nas))\n",
    "    df = pd.DataFrame(no_name_list)\n",
    "    return df"
   ]
  },
  {
   "cell_type": "code",
   "execution_count": 3,
   "metadata": {},
   "outputs": [],
   "source": [
    "######################## Modify below ###########################\n",
    "out_fn = \"ObservationLog_daily_20231211.xlsx\"\n",
    "#################################################################"
   ]
  },
  {
   "cell_type": "code",
   "execution_count": 4,
   "metadata": {
    "scrolled": true
   },
   "outputs": [
    {
     "name": "stdout",
     "output_type": "stream",
     "text": [
      "Index(['yyyy/mm/dd', 'Ship-name', 'PI-name', 'Pl-affiliation', 'PI-position',\n",
      "       'Instruments', 'CTD (0/1)', 'PI-email', 'Unnamed: 8', 'Ship-name list'],\n",
      "      dtype='object')\n",
      "Index(['Unnamed: 0', '氏名', '所属', '職名', 'メールアドレス'], dtype='object')\n"
     ]
    }
   ],
   "source": [
    "# specify file to read, and check its column names\n",
    "path = \"./obslog/\"\n",
    "obs_fn = path + \"ObservationLog_daily.xlsx\"\n",
    "df = pd.read_excel(obs_fn)\n",
    "print(df.columns)\n",
    "contact_fn = \"contact_list.xlsx\"\n",
    "contact_list = pd.read_excel(contact_fn)\n",
    "print(contact_list.columns)"
   ]
  },
  {
   "cell_type": "code",
   "execution_count": 5,
   "metadata": {
    "scrolled": true
   },
   "outputs": [
    {
     "name": "stderr",
     "output_type": "stream",
     "text": [
      "C:\\Users\\Arthurli\\anaconda3\\lib\\site-packages\\ipykernel_launcher.py:5: FutureWarning: elementwise comparison failed; returning scalar instead, but in the future will perform elementwise comparison\n",
      "  \"\"\"\n"
     ]
    }
   ],
   "source": [
    "# assign email address to new df\n",
    "new_df,no_exist_name = checkAndAssign(df,contact_list)\n",
    "####################################################\n",
    "#print(new_df)\n",
    "#print(no_exist_name)"
   ]
  },
  {
   "cell_type": "code",
   "execution_count": 6,
   "metadata": {},
   "outputs": [],
   "source": [
    "# save no_exist_name to an excel file for further processing\n",
    "nen_df = createNoNameDF(no_exist_name)\n",
    "nen_df.to_excel(path+\"no_name_list.xlsx\")"
   ]
  },
  {
   "cell_type": "code",
   "execution_count": 7,
   "metadata": {},
   "outputs": [],
   "source": [
    "# save as temporary excel file -> copy and update on drive\n",
    "new_df.to_excel(path+out_fn)"
   ]
  },
  {
   "cell_type": "markdown",
   "metadata": {},
   "source": [
    "End of file"
   ]
  }
 ],
 "metadata": {
  "kernelspec": {
   "display_name": "Python 3",
   "language": "python",
   "name": "python3"
  },
  "language_info": {
   "codemirror_mode": {
    "name": "ipython",
    "version": 3
   },
   "file_extension": ".py",
   "mimetype": "text/x-python",
   "name": "python",
   "nbconvert_exporter": "python",
   "pygments_lexer": "ipython3",
   "version": "3.7.6"
  }
 },
 "nbformat": 4,
 "nbformat_minor": 4
}
