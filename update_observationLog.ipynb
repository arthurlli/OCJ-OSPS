{
 "cells": [
  {
   "cell_type": "markdown",
   "metadata": {},
   "source": [
    "# Task: update ObservationLog using information in \"contact.xlsx\""
   ]
  },
  {
   "cell_type": "raw",
   "metadata": {},
   "source": [
    "Function: assign emails from the contact list to observation log\n",
    "    - Input: \n",
    "        - \"ObservationLog_daily.xlsx\": observation log listing who used the instrument\n",
    "        - \"contact.xlsx\": as above\n",
    "    - Output:\n",
    "        - \"tmp.xlsx\": an updated temporary xlsx file, for update observation log on drive"
   ]
  },
  {
   "cell_type": "code",
   "execution_count": 1,
   "metadata": {},
   "outputs": [],
   "source": [
    "import numpy as np\n",
    "import pandas as pd\n",
    "import os\n",
    "from datetime import datetime"
   ]
  },
  {
   "cell_type": "code",
   "execution_count": 2,
   "metadata": {},
   "outputs": [],
   "source": [
    "def checkAndAssign(df: pd.DataFrame, contact_list: pd.DataFrame, checking_by: str = '氏名'):\n",
    "    \"\"\"\n",
    "    Assign contact information from contact list to observationLog file\n",
    "    \n",
    "    Input:\n",
    "        df (pd.DataFrame): data frame to be updated\n",
    "        contact_list (pd.DataFrame): contact information\n",
    "        checking_by (str): criteria to assign infomation, default name\n",
    "    \n",
    "    output:\n",
    "        df (pd.DataFrame): updated df\n",
    "        no_all (np.array): list of users that have no information from contact list\n",
    "    \"\"\"\n",
    "    no_name = []\n",
    "    no_aff = []\n",
    "    no_title = []\n",
    "    for i,name in enumerate(df['PI-name']):\n",
    "        if (name in np.array(contact_list.iloc[:,0])) or (name in np.array(contact_list.iloc[:,1])):\n",
    "            # assign email address: at col 7\n",
    "            df.iloc[i,7] = str(np.array(contact_list[np.array(contact_list[checking_by])==name])[0][-1])\n",
    "        elif name not in no_name:\n",
    "            # if name not recorded, put into no_name list\n",
    "            no_name = np.append(no_name,name)\n",
    "            #print(df.iloc[i,3:5])\n",
    "            aff, title = df.iloc[i,3:5]\n",
    "            no_aff = np.append(no_aff,aff)\n",
    "            no_title = np.append(no_title,title)\n",
    "        else:\n",
    "            continue\n",
    "    no_all = np.column_stack((no_name,no_aff,no_title))\n",
    "    return df, no_all\n",
    "\n",
    "def createNoNameDF(no_name_list: np.array):\n",
    "    \"\"\"\n",
    "    Convert the list of no contact information to pd.DataFrame\n",
    "    \n",
    "    Input:\n",
    "        no_name_list (np.array): a matrix \n",
    "    \n",
    "    Output:\n",
    "        df (pd.DataFrame): data frame with column names\n",
    "    \"\"\"\n",
    "    # make a matrix with no names\n",
    "    #dt = np.column_stack((no_name_list,nas))\n",
    "    df = pd.DataFrame(no_name_list, columns=['氏名','所属','職名'])\n",
    "    return df\n",
    "\n",
    "\n",
    "def combineContactList(contact_list1: str, contact_list2: str):\n",
    "    \"\"\"\n",
    "    Combine two contact lists (organized by Python and by hands)\n",
    "    \n",
    "    Input:\n",
    "        contact_list1 (str): filename of list 1\n",
    "        contact_list2 (str): filename of list 2\n",
    "    Output;\n",
    "        output (pd.DataFrame): data frame combining two lists\n",
    "    \"\"\"\n",
    "    cl1 = pd.read_excel(contact_list1)\n",
    "    cl2 = pd.read_excel(contact_list2)\n",
    "    #output = np.row_stack((cl1,cl2))\n",
    "    # concat according to column names\n",
    "    output = pd.concat([cl1,cl2], axis=0)\n",
    "    print(f\"Two contact lists shape: {cl1.shape} && {cl2.shape}\")\n",
    "    return output"
   ]
  },
  {
   "cell_type": "code",
   "execution_count": 3,
   "metadata": {},
   "outputs": [
    {
     "name": "stdout",
     "output_type": "stream",
     "text": [
      "Today is 2023-12-18\n"
     ]
    }
   ],
   "source": [
    "############### Configuration: path, folder, date ################\n",
    "today = datetime.today().date()\n",
    "print(f\"Today is {today}\")\n",
    "# define save filename by date\n",
    "out_fn = f\"ObservationLog_daily_{today}.xlsx\"\n",
    "# specify file to read, and check its column names\n",
    "path = \"./obslog/\"\n",
    "obs_fn = path + \"ObservationLog_daily.xlsx\"\n",
    "##################################################################"
   ]
  },
  {
   "cell_type": "code",
   "execution_count": 4,
   "metadata": {
    "scrolled": true
   },
   "outputs": [
    {
     "name": "stdout",
     "output_type": "stream",
     "text": [
      "Index(['yyyy/mm/dd', 'Ship-name', 'PI-name', 'Pl-affiliation', 'PI-position',\n",
      "       'Instruments', 'CTD (0/1)', 'PI-email', 'Unnamed: 8', 'Ship-name list'],\n",
      "      dtype='object')\n",
      "Index(['Unnamed: 0', '氏名', '所属', '職名', 'メールアドレス'], dtype='object')\n"
     ]
    }
   ],
   "source": [
    "# reading observationLog into df\n",
    "df = pd.read_excel(obs_fn)\n",
    "print(df.columns)\n",
    "\n",
    "# trying read contact_list for checking in later part\n",
    "contact_fn = \"contact_list.xlsx\"\n",
    "contact_list = pd.read_excel(contact_fn)\n",
    "print(contact_list.columns)"
   ]
  },
  {
   "cell_type": "code",
   "execution_count": 5,
   "metadata": {},
   "outputs": [
    {
     "name": "stdout",
     "output_type": "stream",
     "text": [
      "Two contact lists shape: (92, 5) && (8, 5)\n",
      "(100, 5)\n"
     ]
    }
   ],
   "source": [
    "# read two contact lists: 1) organized from 共同利用研究者連絡先（公募利用） 2) manually collected\n",
    "contact1 = \"contact_list.xlsx\"\n",
    "contact2 = \"contact_list_noName.xlsx\"\n",
    "all_contact = combineContactList(contact_list1=contact1, contact_list2=contact2)\n",
    "print(all_contact.shape)"
   ]
  },
  {
   "cell_type": "code",
   "execution_count": 6,
   "metadata": {
    "scrolled": true
   },
   "outputs": [
    {
     "name": "stderr",
     "output_type": "stream",
     "text": [
      "c:\\Users\\Arthurli\\anaconda3\\lib\\site-packages\\ipykernel_launcher.py:7: FutureWarning: elementwise comparison failed; returning scalar instead, but in the future will perform elementwise comparison\n",
      "  import sys\n"
     ]
    }
   ],
   "source": [
    "# assign email address to new df\n",
    "#new_df,no_exist_name = checkAndAssign(df,contact_list)\n",
    "new_df,no_exist_name = checkAndAssign(df,all_contact)\n",
    "####################################################\n",
    "#print(new_df)\n",
    "#print(no_exist_name)"
   ]
  },
  {
   "cell_type": "code",
   "execution_count": 7,
   "metadata": {},
   "outputs": [],
   "source": [
    "# save no_exist_name to an excel file for further processing\n",
    "nen_df = createNoNameDF(no_exist_name)\n",
    "nen_df.to_excel(path+\"no_name_list.xlsx\")"
   ]
  },
  {
   "cell_type": "code",
   "execution_count": 8,
   "metadata": {},
   "outputs": [],
   "source": [
    "# save as temporary excel file -> copy and update on drive\n",
    "new_df.to_excel(path+out_fn)"
   ]
  },
  {
   "cell_type": "markdown",
   "metadata": {},
   "source": [
    "End of file"
   ]
  }
 ],
 "metadata": {
  "kernelspec": {
   "display_name": "Python 3",
   "language": "python",
   "name": "python3"
  },
  "language_info": {
   "codemirror_mode": {
    "name": "ipython",
    "version": 3
   },
   "file_extension": ".py",
   "mimetype": "text/x-python",
   "name": "python",
   "nbconvert_exporter": "python",
   "pygments_lexer": "ipython3",
   "version": "3.7.6"
  }
 },
 "nbformat": 4,
 "nbformat_minor": 4
}
