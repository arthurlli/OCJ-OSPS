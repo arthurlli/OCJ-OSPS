{
 "cells": [
  {
   "cell_type": "code",
   "execution_count": 2,
   "metadata": {},
   "outputs": [],
   "source": [
    "# Import libraries\n",
    "import numpy as np\n",
    "import pandas as pd\n",
    "import matplotlib.pyplot as plt\n",
    "import os\n",
    "import re"
   ]
  },
  {
   "cell_type": "code",
   "execution_count": 3,
   "metadata": {},
   "outputs": [],
   "source": [
    "# A class to store and parse filename \n",
    "class filenameClass:\n",
    "    def __init__(self, fn):\n",
    "        self.fn = fn\n",
    "        #self.match = fn_parser()\n",
    "        return\n",
    "\n",
    "    def fn_parser(self):\n",
    "        # define regex for CTD RINKO data: date, time, sondeName, sondeNumber, dummy, fieltype\n",
    "        filename = self.fn\n",
    "        pattern = r'^(?P<date>\\d{8})(?P<time>\\d{4})_(?P<sonde_name>[A-Z\\d-]+)_(?P<sonde_number>\\d{4})_(?P<dummy>\\d{6})\\.(?P<filetype>[a-zA-Z]+)$'\n",
    "        # match filename and pattern\n",
    "        match = re.match(pattern, filename)\n",
    "        if match:\n",
    "            #return match\n",
    "            self.date = match.group('date')\n",
    "            self.time = match.group('time')\n",
    "            self.sonde_name = match.group('sonde_name')\n",
    "            self.sonde_number = match.group('sonde_number')\n",
    "            self.dummy = match.group('dummy')\n",
    "            self.file_type = match.group('filetype')\n",
    "        else:\n",
    "            print(f\"Filename {self.fn} does not match the pattern!!\")\n",
    "\n",
    "    def getDate(self):\n",
    "        return self.date\n",
    "\n",
    "    def getTime(self):\n",
    "        return self.time\n",
    "\n",
    "    def getSondeName(self):\n",
    "        return self.sonde_name\n",
    "\n",
    "    def getSondeNumber(self):\n",
    "        return self.sonde_number\n",
    "\n",
    "    def getFileType(self):\n",
    "        return self.file_type\n"
   ]
  },
  {
   "cell_type": "code",
   "execution_count": 4,
   "metadata": {},
   "outputs": [],
   "source": [
    "# Main function: reading and outputing attributes\n",
    "def main():\n",
    "    def listOut_fn(path):\n",
    "        # Use os to retrieve list of files\n",
    "        all_files = os.listdir(path)\n",
    "        return all_files\n",
    "\n",
    "    def printAttr(file):\n",
    "        print(\"Date:\", file.getDate())\n",
    "        print(\"Time:\", file.getTime())\n",
    "        print(\"Sonde Name:\", file.getSondeName())\n",
    "        print(\"Sonde ID:\", file.getSondeNumber())\n",
    "        print(\"Filetype:\", file.getFileType())\n",
    "        return\n",
    "    \n",
    "    ############## Configure data path below ################\n",
    "    dt_path = \"../data/RINKO_Data/\"\n",
    "    #########################################################\n",
    "    RINKO_fn = listOut_fn(dt_path)\n",
    "    print(RINKO_fn[0:10])\n",
    "    ##############testing: uncomment below ##################\n",
    "    #filename = \"201403170853_ASTD102-ALC-R02_0254_085318.csv\"\n",
    "    filename = \"201403250855_ASTD102-ALC-R02_0254_085522.csv\"\n",
    "    filename = RINKO_fn[99]\n",
    "    # below does not work: '$' added to datetime, TODO\n",
    "    #filename = RINKO_fn[0]\n",
    "    #########################################\n",
    "    file = filenameClass(filename)\n",
    "    file.fn_parser()\n",
    "    # Print all\n",
    "    printAttr(file)\n"
   ]
  },
  {
   "cell_type": "code",
   "execution_count": 5,
   "metadata": {},
   "outputs": [
    {
     "name": "stdout",
     "output_type": "stream",
     "text": [
      "Date: 20140325\n",
      "Time: 0855\n",
      "Sonde Name: ASTD102-ALC-R02\n",
      "Sonde ID: 0254\n",
      "Filetype: csv\n"
     ]
    }
   ],
   "source": [
    "if __name__ == \"__main__\":\n",
    "    main()\n",
    "# End file"
   ]
  }
 ],
 "metadata": {
  "kernelspec": {
   "display_name": "Python 3",
   "language": "python",
   "name": "python3"
  },
  "language_info": {
   "codemirror_mode": {
    "name": "ipython",
    "version": 3
   },
   "file_extension": ".py",
   "mimetype": "text/x-python",
   "name": "python",
   "nbconvert_exporter": "python",
   "pygments_lexer": "ipython3",
   "version": "3.7.6"
  }
 },
 "nbformat": 4,
 "nbformat_minor": 4
}
